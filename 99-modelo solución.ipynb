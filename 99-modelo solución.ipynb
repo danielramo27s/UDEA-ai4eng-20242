{
  "cells": [
    {
      "cell_type": "markdown",
      "metadata": {
        "id": "view-in-github",
        "colab_type": "text"
      },
      "source": [
        "<a href=\"https://colab.research.google.com/github/danielramo27s/UDEA-ai4eng-20242/blob/main/99-modelo%20soluci%C3%B3n.ipynb\" target=\"_parent\"><img src=\"https://colab.research.google.com/assets/colab-badge.svg\" alt=\"Open In Colab\"/></a>"
      ]
    },
    {
      "cell_type": "code",
      "execution_count": 1,
      "metadata": {
        "colab": {
          "base_uri": "https://localhost:8080/",
          "height": 91
        },
        "id": "O5Q_xd-NTQuD",
        "outputId": "0cec8e33-71a8-4720-a085-8db36fb290ee"
      },
      "outputs": [
        {
          "output_type": "display_data",
          "data": {
            "text/plain": [
              "<IPython.core.display.HTML object>"
            ],
            "text/html": [
              "\n",
              "     <input type=\"file\" id=\"files-1ad046d4-4c79-40c6-a135-7ca2fd014bad\" name=\"files[]\" multiple disabled\n",
              "        style=\"border:none\" />\n",
              "     <output id=\"result-1ad046d4-4c79-40c6-a135-7ca2fd014bad\">\n",
              "      Upload widget is only available when the cell has been executed in the\n",
              "      current browser session. Please rerun this cell to enable.\n",
              "      </output>\n",
              "      <script>// Copyright 2017 Google LLC\n",
              "//\n",
              "// Licensed under the Apache License, Version 2.0 (the \"License\");\n",
              "// you may not use this file except in compliance with the License.\n",
              "// You may obtain a copy of the License at\n",
              "//\n",
              "//      http://www.apache.org/licenses/LICENSE-2.0\n",
              "//\n",
              "// Unless required by applicable law or agreed to in writing, software\n",
              "// distributed under the License is distributed on an \"AS IS\" BASIS,\n",
              "// WITHOUT WARRANTIES OR CONDITIONS OF ANY KIND, either express or implied.\n",
              "// See the License for the specific language governing permissions and\n",
              "// limitations under the License.\n",
              "\n",
              "/**\n",
              " * @fileoverview Helpers for google.colab Python module.\n",
              " */\n",
              "(function(scope) {\n",
              "function span(text, styleAttributes = {}) {\n",
              "  const element = document.createElement('span');\n",
              "  element.textContent = text;\n",
              "  for (const key of Object.keys(styleAttributes)) {\n",
              "    element.style[key] = styleAttributes[key];\n",
              "  }\n",
              "  return element;\n",
              "}\n",
              "\n",
              "// Max number of bytes which will be uploaded at a time.\n",
              "const MAX_PAYLOAD_SIZE = 100 * 1024;\n",
              "\n",
              "function _uploadFiles(inputId, outputId) {\n",
              "  const steps = uploadFilesStep(inputId, outputId);\n",
              "  const outputElement = document.getElementById(outputId);\n",
              "  // Cache steps on the outputElement to make it available for the next call\n",
              "  // to uploadFilesContinue from Python.\n",
              "  outputElement.steps = steps;\n",
              "\n",
              "  return _uploadFilesContinue(outputId);\n",
              "}\n",
              "\n",
              "// This is roughly an async generator (not supported in the browser yet),\n",
              "// where there are multiple asynchronous steps and the Python side is going\n",
              "// to poll for completion of each step.\n",
              "// This uses a Promise to block the python side on completion of each step,\n",
              "// then passes the result of the previous step as the input to the next step.\n",
              "function _uploadFilesContinue(outputId) {\n",
              "  const outputElement = document.getElementById(outputId);\n",
              "  const steps = outputElement.steps;\n",
              "\n",
              "  const next = steps.next(outputElement.lastPromiseValue);\n",
              "  return Promise.resolve(next.value.promise).then((value) => {\n",
              "    // Cache the last promise value to make it available to the next\n",
              "    // step of the generator.\n",
              "    outputElement.lastPromiseValue = value;\n",
              "    return next.value.response;\n",
              "  });\n",
              "}\n",
              "\n",
              "/**\n",
              " * Generator function which is called between each async step of the upload\n",
              " * process.\n",
              " * @param {string} inputId Element ID of the input file picker element.\n",
              " * @param {string} outputId Element ID of the output display.\n",
              " * @return {!Iterable<!Object>} Iterable of next steps.\n",
              " */\n",
              "function* uploadFilesStep(inputId, outputId) {\n",
              "  const inputElement = document.getElementById(inputId);\n",
              "  inputElement.disabled = false;\n",
              "\n",
              "  const outputElement = document.getElementById(outputId);\n",
              "  outputElement.innerHTML = '';\n",
              "\n",
              "  const pickedPromise = new Promise((resolve) => {\n",
              "    inputElement.addEventListener('change', (e) => {\n",
              "      resolve(e.target.files);\n",
              "    });\n",
              "  });\n",
              "\n",
              "  const cancel = document.createElement('button');\n",
              "  inputElement.parentElement.appendChild(cancel);\n",
              "  cancel.textContent = 'Cancel upload';\n",
              "  const cancelPromise = new Promise((resolve) => {\n",
              "    cancel.onclick = () => {\n",
              "      resolve(null);\n",
              "    };\n",
              "  });\n",
              "\n",
              "  // Wait for the user to pick the files.\n",
              "  const files = yield {\n",
              "    promise: Promise.race([pickedPromise, cancelPromise]),\n",
              "    response: {\n",
              "      action: 'starting',\n",
              "    }\n",
              "  };\n",
              "\n",
              "  cancel.remove();\n",
              "\n",
              "  // Disable the input element since further picks are not allowed.\n",
              "  inputElement.disabled = true;\n",
              "\n",
              "  if (!files) {\n",
              "    return {\n",
              "      response: {\n",
              "        action: 'complete',\n",
              "      }\n",
              "    };\n",
              "  }\n",
              "\n",
              "  for (const file of files) {\n",
              "    const li = document.createElement('li');\n",
              "    li.append(span(file.name, {fontWeight: 'bold'}));\n",
              "    li.append(span(\n",
              "        `(${file.type || 'n/a'}) - ${file.size} bytes, ` +\n",
              "        `last modified: ${\n",
              "            file.lastModifiedDate ? file.lastModifiedDate.toLocaleDateString() :\n",
              "                                    'n/a'} - `));\n",
              "    const percent = span('0% done');\n",
              "    li.appendChild(percent);\n",
              "\n",
              "    outputElement.appendChild(li);\n",
              "\n",
              "    const fileDataPromise = new Promise((resolve) => {\n",
              "      const reader = new FileReader();\n",
              "      reader.onload = (e) => {\n",
              "        resolve(e.target.result);\n",
              "      };\n",
              "      reader.readAsArrayBuffer(file);\n",
              "    });\n",
              "    // Wait for the data to be ready.\n",
              "    let fileData = yield {\n",
              "      promise: fileDataPromise,\n",
              "      response: {\n",
              "        action: 'continue',\n",
              "      }\n",
              "    };\n",
              "\n",
              "    // Use a chunked sending to avoid message size limits. See b/62115660.\n",
              "    let position = 0;\n",
              "    do {\n",
              "      const length = Math.min(fileData.byteLength - position, MAX_PAYLOAD_SIZE);\n",
              "      const chunk = new Uint8Array(fileData, position, length);\n",
              "      position += length;\n",
              "\n",
              "      const base64 = btoa(String.fromCharCode.apply(null, chunk));\n",
              "      yield {\n",
              "        response: {\n",
              "          action: 'append',\n",
              "          file: file.name,\n",
              "          data: base64,\n",
              "        },\n",
              "      };\n",
              "\n",
              "      let percentDone = fileData.byteLength === 0 ?\n",
              "          100 :\n",
              "          Math.round((position / fileData.byteLength) * 100);\n",
              "      percent.textContent = `${percentDone}% done`;\n",
              "\n",
              "    } while (position < fileData.byteLength);\n",
              "  }\n",
              "\n",
              "  // All done.\n",
              "  yield {\n",
              "    response: {\n",
              "      action: 'complete',\n",
              "    }\n",
              "  };\n",
              "}\n",
              "\n",
              "scope.google = scope.google || {};\n",
              "scope.google.colab = scope.google.colab || {};\n",
              "scope.google.colab._files = {\n",
              "  _uploadFiles,\n",
              "  _uploadFilesContinue,\n",
              "};\n",
              "})(self);\n",
              "</script> "
            ]
          },
          "metadata": {}
        },
        {
          "output_type": "stream",
          "name": "stdout",
          "text": [
            "Saving kaggle.json to kaggle.json\n"
          ]
        },
        {
          "output_type": "execute_result",
          "data": {
            "text/plain": [
              "{'kaggle.json': b'{\"username\":\"danielramos27\",\"key\":\"68ee7434e74c3a6f858f223a903a33a4\"}'}"
            ]
          },
          "metadata": {},
          "execution_count": 1
        }
      ],
      "source": [
        "#cargamos el archivo kaggle para obtener acceso a los archivos de la competicion\n",
        "from google.colab import files\n",
        "files.upload()"
      ]
    },
    {
      "cell_type": "code",
      "execution_count": 2,
      "metadata": {
        "id": "0-wvlTdsUB8q"
      },
      "outputs": [],
      "source": [
        "#configuramos el directorio\n",
        "import os\n",
        "os.environ['KAGGLE_CONFIG_DIR'] = \"/content\"\n",
        "\n",
        "!chmod 600 /content/kaggle.json"
      ]
    },
    {
      "cell_type": "code",
      "execution_count": 3,
      "metadata": {
        "colab": {
          "base_uri": "https://localhost:8080/"
        },
        "id": "GGdmlHPQUDFv",
        "outputId": "ecd630f9-c747-48dc-ebc5-f6cb5c9cde55"
      },
      "outputs": [
        {
          "output_type": "stream",
          "name": "stdout",
          "text": [
            "Downloading udea-ai4eng-20242.zip to /content\n",
            " 84% 17.0M/20.1M [00:00<00:00, 174MB/s]\n",
            "100% 20.1M/20.1M [00:00<00:00, 183MB/s]\n"
          ]
        }
      ],
      "source": [
        "#descargamos los archivos de la competicion\n",
        "!kaggle competitions download -c udea-ai4eng-20242"
      ]
    },
    {
      "cell_type": "code",
      "execution_count": 4,
      "metadata": {
        "id": "FO6JtR6XUFm0"
      },
      "outputs": [],
      "source": [
        "import zipfile\n",
        "\n",
        "# Descomprime el archivo\n",
        "with zipfile.ZipFile(\"/content/udea-ai4eng-20242.zip\", 'r') as zip_ref:\n",
        "    zip_ref.extractall(\"/content/udea-ai4eng-20242\")"
      ]
    },
    {
      "cell_type": "code",
      "execution_count": null,
      "metadata": {
        "colab": {
          "base_uri": "https://localhost:8080/"
        },
        "id": "60ufyoOeUH7R",
        "outputId": "f9bc5c69-fc45-4d6b-8bb7-f79b82901036"
      },
      "outputs": [
        {
          "output_type": "stream",
          "name": "stdout",
          "text": [
            "['test.csv', 'train.csv', 'submission_example.csv']\n"
          ]
        }
      ],
      "source": [
        "print(os.listdir('/content/udea-ai4eng-20242'))"
      ]
    },
    {
      "cell_type": "code",
      "execution_count": null,
      "metadata": {
        "colab": {
          "base_uri": "https://localhost:8080/",
          "height": 660
        },
        "id": "OxYwGTKfUMV-",
        "outputId": "904d2394-5d18-43c0-c778-bd4448beb206"
      },
      "outputs": [
        {
          "output_type": "stream",
          "name": "stdout",
          "text": [
            "<class 'pandas.core.frame.DataFrame'>\n",
            "RangeIndex: 692500 entries, 0 to 692499\n",
            "Data columns (total 12 columns):\n",
            " #   Column                          Non-Null Count   Dtype \n",
            "---  ------                          --------------   ----- \n",
            " 0   ID                              692500 non-null  int64 \n",
            " 1   PERIODO                         692500 non-null  int64 \n",
            " 2   ESTU_PRGM_ACADEMICO             692500 non-null  object\n",
            " 3   ESTU_PRGM_DEPARTAMENTO          692500 non-null  object\n",
            " 4   ESTU_VALORMATRICULAUNIVERSIDAD  686213 non-null  object\n",
            " 5   ESTU_HORASSEMANATRABAJA         661643 non-null  object\n",
            " 6   FAMI_ESTRATOVIVIENDA            660363 non-null  object\n",
            " 7   FAMI_TIENEINTERNET              665871 non-null  object\n",
            " 8   FAMI_EDUCACIONPADRE             669322 non-null  object\n",
            " 9   FAMI_EDUCACIONMADRE             668836 non-null  object\n",
            " 10  ESTU_PAGOMATRICULAPROPIO        686002 non-null  object\n",
            " 11  RENDIMIENTO_GLOBAL              692500 non-null  object\n",
            "dtypes: int64(2), object(10)\n",
            "memory usage: 63.4+ MB\n"
          ]
        },
        {
          "output_type": "display_data",
          "data": {
            "text/plain": [
              "       ID  PERIODO         ESTU_PRGM_ACADEMICO ESTU_PRGM_DEPARTAMENTO  \\\n",
              "0  904256    20212                  ENFERMERIA                 BOGOTÁ   \n",
              "1  645256    20212                     DERECHO              ATLANTICO   \n",
              "2  308367    20203       MERCADEO Y PUBLICIDAD                 BOGOTÁ   \n",
              "3  470353    20195  ADMINISTRACION DE EMPRESAS              SANTANDER   \n",
              "4  989032    20212                  PSICOLOGIA              ANTIOQUIA   \n",
              "\n",
              "             ESTU_VALORMATRICULAUNIVERSIDAD ESTU_HORASSEMANATRABAJA  \\\n",
              "0  Entre 5.5 millones y menos de 7 millones       Menos de 10 horas   \n",
              "1  Entre 2.5 millones y menos de 4 millones                       0   \n",
              "2  Entre 2.5 millones y menos de 4 millones         Más de 30 horas   \n",
              "3  Entre 4 millones y menos de 5.5 millones                       0   \n",
              "4  Entre 2.5 millones y menos de 4 millones     Entre 21 y 30 horas   \n",
              "\n",
              "  FAMI_ESTRATOVIVIENDA FAMI_TIENEINTERNET                 FAMI_EDUCACIONPADRE  \\\n",
              "0            Estrato 3                 Si    Técnica o tecnológica incompleta   \n",
              "1            Estrato 3                 No      Técnica o tecnológica completa   \n",
              "2            Estrato 3                 Si  Secundaria (Bachillerato) completa   \n",
              "3            Estrato 4                 Si                             No sabe   \n",
              "4            Estrato 3                 Si                   Primaria completa   \n",
              "\n",
              "                  FAMI_EDUCACIONMADRE ESTU_PAGOMATRICULAPROPIO  \\\n",
              "0                           Postgrado                       No   \n",
              "1    Técnica o tecnológica incompleta                       No   \n",
              "2  Secundaria (Bachillerato) completa                       No   \n",
              "3  Secundaria (Bachillerato) completa                       No   \n",
              "4                   Primaria completa                       No   \n",
              "\n",
              "  RENDIMIENTO_GLOBAL  \n",
              "0         medio-alto  \n",
              "1               bajo  \n",
              "2               bajo  \n",
              "3               alto  \n",
              "4         medio-bajo  "
            ],
            "text/html": [
              "\n",
              "  <div id=\"df-9c5621bc-be41-48fe-a22b-514bd2dd7132\" class=\"colab-df-container\">\n",
              "    <div>\n",
              "<style scoped>\n",
              "    .dataframe tbody tr th:only-of-type {\n",
              "        vertical-align: middle;\n",
              "    }\n",
              "\n",
              "    .dataframe tbody tr th {\n",
              "        vertical-align: top;\n",
              "    }\n",
              "\n",
              "    .dataframe thead th {\n",
              "        text-align: right;\n",
              "    }\n",
              "</style>\n",
              "<table border=\"1\" class=\"dataframe\">\n",
              "  <thead>\n",
              "    <tr style=\"text-align: right;\">\n",
              "      <th></th>\n",
              "      <th>ID</th>\n",
              "      <th>PERIODO</th>\n",
              "      <th>ESTU_PRGM_ACADEMICO</th>\n",
              "      <th>ESTU_PRGM_DEPARTAMENTO</th>\n",
              "      <th>ESTU_VALORMATRICULAUNIVERSIDAD</th>\n",
              "      <th>ESTU_HORASSEMANATRABAJA</th>\n",
              "      <th>FAMI_ESTRATOVIVIENDA</th>\n",
              "      <th>FAMI_TIENEINTERNET</th>\n",
              "      <th>FAMI_EDUCACIONPADRE</th>\n",
              "      <th>FAMI_EDUCACIONMADRE</th>\n",
              "      <th>ESTU_PAGOMATRICULAPROPIO</th>\n",
              "      <th>RENDIMIENTO_GLOBAL</th>\n",
              "    </tr>\n",
              "  </thead>\n",
              "  <tbody>\n",
              "    <tr>\n",
              "      <th>0</th>\n",
              "      <td>904256</td>\n",
              "      <td>20212</td>\n",
              "      <td>ENFERMERIA</td>\n",
              "      <td>BOGOTÁ</td>\n",
              "      <td>Entre 5.5 millones y menos de 7 millones</td>\n",
              "      <td>Menos de 10 horas</td>\n",
              "      <td>Estrato 3</td>\n",
              "      <td>Si</td>\n",
              "      <td>Técnica o tecnológica incompleta</td>\n",
              "      <td>Postgrado</td>\n",
              "      <td>No</td>\n",
              "      <td>medio-alto</td>\n",
              "    </tr>\n",
              "    <tr>\n",
              "      <th>1</th>\n",
              "      <td>645256</td>\n",
              "      <td>20212</td>\n",
              "      <td>DERECHO</td>\n",
              "      <td>ATLANTICO</td>\n",
              "      <td>Entre 2.5 millones y menos de 4 millones</td>\n",
              "      <td>0</td>\n",
              "      <td>Estrato 3</td>\n",
              "      <td>No</td>\n",
              "      <td>Técnica o tecnológica completa</td>\n",
              "      <td>Técnica o tecnológica incompleta</td>\n",
              "      <td>No</td>\n",
              "      <td>bajo</td>\n",
              "    </tr>\n",
              "    <tr>\n",
              "      <th>2</th>\n",
              "      <td>308367</td>\n",
              "      <td>20203</td>\n",
              "      <td>MERCADEO Y PUBLICIDAD</td>\n",
              "      <td>BOGOTÁ</td>\n",
              "      <td>Entre 2.5 millones y menos de 4 millones</td>\n",
              "      <td>Más de 30 horas</td>\n",
              "      <td>Estrato 3</td>\n",
              "      <td>Si</td>\n",
              "      <td>Secundaria (Bachillerato) completa</td>\n",
              "      <td>Secundaria (Bachillerato) completa</td>\n",
              "      <td>No</td>\n",
              "      <td>bajo</td>\n",
              "    </tr>\n",
              "    <tr>\n",
              "      <th>3</th>\n",
              "      <td>470353</td>\n",
              "      <td>20195</td>\n",
              "      <td>ADMINISTRACION DE EMPRESAS</td>\n",
              "      <td>SANTANDER</td>\n",
              "      <td>Entre 4 millones y menos de 5.5 millones</td>\n",
              "      <td>0</td>\n",
              "      <td>Estrato 4</td>\n",
              "      <td>Si</td>\n",
              "      <td>No sabe</td>\n",
              "      <td>Secundaria (Bachillerato) completa</td>\n",
              "      <td>No</td>\n",
              "      <td>alto</td>\n",
              "    </tr>\n",
              "    <tr>\n",
              "      <th>4</th>\n",
              "      <td>989032</td>\n",
              "      <td>20212</td>\n",
              "      <td>PSICOLOGIA</td>\n",
              "      <td>ANTIOQUIA</td>\n",
              "      <td>Entre 2.5 millones y menos de 4 millones</td>\n",
              "      <td>Entre 21 y 30 horas</td>\n",
              "      <td>Estrato 3</td>\n",
              "      <td>Si</td>\n",
              "      <td>Primaria completa</td>\n",
              "      <td>Primaria completa</td>\n",
              "      <td>No</td>\n",
              "      <td>medio-bajo</td>\n",
              "    </tr>\n",
              "  </tbody>\n",
              "</table>\n",
              "</div>\n",
              "    <div class=\"colab-df-buttons\">\n",
              "\n",
              "  <div class=\"colab-df-container\">\n",
              "    <button class=\"colab-df-convert\" onclick=\"convertToInteractive('df-9c5621bc-be41-48fe-a22b-514bd2dd7132')\"\n",
              "            title=\"Convert this dataframe to an interactive table.\"\n",
              "            style=\"display:none;\">\n",
              "\n",
              "  <svg xmlns=\"http://www.w3.org/2000/svg\" height=\"24px\" viewBox=\"0 -960 960 960\">\n",
              "    <path d=\"M120-120v-720h720v720H120Zm60-500h600v-160H180v160Zm220 220h160v-160H400v160Zm0 220h160v-160H400v160ZM180-400h160v-160H180v160Zm440 0h160v-160H620v160ZM180-180h160v-160H180v160Zm440 0h160v-160H620v160Z\"/>\n",
              "  </svg>\n",
              "    </button>\n",
              "\n",
              "  <style>\n",
              "    .colab-df-container {\n",
              "      display:flex;\n",
              "      gap: 12px;\n",
              "    }\n",
              "\n",
              "    .colab-df-convert {\n",
              "      background-color: #E8F0FE;\n",
              "      border: none;\n",
              "      border-radius: 50%;\n",
              "      cursor: pointer;\n",
              "      display: none;\n",
              "      fill: #1967D2;\n",
              "      height: 32px;\n",
              "      padding: 0 0 0 0;\n",
              "      width: 32px;\n",
              "    }\n",
              "\n",
              "    .colab-df-convert:hover {\n",
              "      background-color: #E2EBFA;\n",
              "      box-shadow: 0px 1px 2px rgba(60, 64, 67, 0.3), 0px 1px 3px 1px rgba(60, 64, 67, 0.15);\n",
              "      fill: #174EA6;\n",
              "    }\n",
              "\n",
              "    .colab-df-buttons div {\n",
              "      margin-bottom: 4px;\n",
              "    }\n",
              "\n",
              "    [theme=dark] .colab-df-convert {\n",
              "      background-color: #3B4455;\n",
              "      fill: #D2E3FC;\n",
              "    }\n",
              "\n",
              "    [theme=dark] .colab-df-convert:hover {\n",
              "      background-color: #434B5C;\n",
              "      box-shadow: 0px 1px 3px 1px rgba(0, 0, 0, 0.15);\n",
              "      filter: drop-shadow(0px 1px 2px rgba(0, 0, 0, 0.3));\n",
              "      fill: #FFFFFF;\n",
              "    }\n",
              "  </style>\n",
              "\n",
              "    <script>\n",
              "      const buttonEl =\n",
              "        document.querySelector('#df-9c5621bc-be41-48fe-a22b-514bd2dd7132 button.colab-df-convert');\n",
              "      buttonEl.style.display =\n",
              "        google.colab.kernel.accessAllowed ? 'block' : 'none';\n",
              "\n",
              "      async function convertToInteractive(key) {\n",
              "        const element = document.querySelector('#df-9c5621bc-be41-48fe-a22b-514bd2dd7132');\n",
              "        const dataTable =\n",
              "          await google.colab.kernel.invokeFunction('convertToInteractive',\n",
              "                                                    [key], {});\n",
              "        if (!dataTable) return;\n",
              "\n",
              "        const docLinkHtml = 'Like what you see? Visit the ' +\n",
              "          '<a target=\"_blank\" href=https://colab.research.google.com/notebooks/data_table.ipynb>data table notebook</a>'\n",
              "          + ' to learn more about interactive tables.';\n",
              "        element.innerHTML = '';\n",
              "        dataTable['output_type'] = 'display_data';\n",
              "        await google.colab.output.renderOutput(dataTable, element);\n",
              "        const docLink = document.createElement('div');\n",
              "        docLink.innerHTML = docLinkHtml;\n",
              "        element.appendChild(docLink);\n",
              "      }\n",
              "    </script>\n",
              "  </div>\n",
              "\n",
              "\n",
              "<div id=\"df-2dcdb172-2aa1-4ba6-87a3-6384f1e6a048\">\n",
              "  <button class=\"colab-df-quickchart\" onclick=\"quickchart('df-2dcdb172-2aa1-4ba6-87a3-6384f1e6a048')\"\n",
              "            title=\"Suggest charts\"\n",
              "            style=\"display:none;\">\n",
              "\n",
              "<svg xmlns=\"http://www.w3.org/2000/svg\" height=\"24px\"viewBox=\"0 0 24 24\"\n",
              "     width=\"24px\">\n",
              "    <g>\n",
              "        <path d=\"M19 3H5c-1.1 0-2 .9-2 2v14c0 1.1.9 2 2 2h14c1.1 0 2-.9 2-2V5c0-1.1-.9-2-2-2zM9 17H7v-7h2v7zm4 0h-2V7h2v10zm4 0h-2v-4h2v4z\"/>\n",
              "    </g>\n",
              "</svg>\n",
              "  </button>\n",
              "\n",
              "<style>\n",
              "  .colab-df-quickchart {\n",
              "      --bg-color: #E8F0FE;\n",
              "      --fill-color: #1967D2;\n",
              "      --hover-bg-color: #E2EBFA;\n",
              "      --hover-fill-color: #174EA6;\n",
              "      --disabled-fill-color: #AAA;\n",
              "      --disabled-bg-color: #DDD;\n",
              "  }\n",
              "\n",
              "  [theme=dark] .colab-df-quickchart {\n",
              "      --bg-color: #3B4455;\n",
              "      --fill-color: #D2E3FC;\n",
              "      --hover-bg-color: #434B5C;\n",
              "      --hover-fill-color: #FFFFFF;\n",
              "      --disabled-bg-color: #3B4455;\n",
              "      --disabled-fill-color: #666;\n",
              "  }\n",
              "\n",
              "  .colab-df-quickchart {\n",
              "    background-color: var(--bg-color);\n",
              "    border: none;\n",
              "    border-radius: 50%;\n",
              "    cursor: pointer;\n",
              "    display: none;\n",
              "    fill: var(--fill-color);\n",
              "    height: 32px;\n",
              "    padding: 0;\n",
              "    width: 32px;\n",
              "  }\n",
              "\n",
              "  .colab-df-quickchart:hover {\n",
              "    background-color: var(--hover-bg-color);\n",
              "    box-shadow: 0 1px 2px rgba(60, 64, 67, 0.3), 0 1px 3px 1px rgba(60, 64, 67, 0.15);\n",
              "    fill: var(--button-hover-fill-color);\n",
              "  }\n",
              "\n",
              "  .colab-df-quickchart-complete:disabled,\n",
              "  .colab-df-quickchart-complete:disabled:hover {\n",
              "    background-color: var(--disabled-bg-color);\n",
              "    fill: var(--disabled-fill-color);\n",
              "    box-shadow: none;\n",
              "  }\n",
              "\n",
              "  .colab-df-spinner {\n",
              "    border: 2px solid var(--fill-color);\n",
              "    border-color: transparent;\n",
              "    border-bottom-color: var(--fill-color);\n",
              "    animation:\n",
              "      spin 1s steps(1) infinite;\n",
              "  }\n",
              "\n",
              "  @keyframes spin {\n",
              "    0% {\n",
              "      border-color: transparent;\n",
              "      border-bottom-color: var(--fill-color);\n",
              "      border-left-color: var(--fill-color);\n",
              "    }\n",
              "    20% {\n",
              "      border-color: transparent;\n",
              "      border-left-color: var(--fill-color);\n",
              "      border-top-color: var(--fill-color);\n",
              "    }\n",
              "    30% {\n",
              "      border-color: transparent;\n",
              "      border-left-color: var(--fill-color);\n",
              "      border-top-color: var(--fill-color);\n",
              "      border-right-color: var(--fill-color);\n",
              "    }\n",
              "    40% {\n",
              "      border-color: transparent;\n",
              "      border-right-color: var(--fill-color);\n",
              "      border-top-color: var(--fill-color);\n",
              "    }\n",
              "    60% {\n",
              "      border-color: transparent;\n",
              "      border-right-color: var(--fill-color);\n",
              "    }\n",
              "    80% {\n",
              "      border-color: transparent;\n",
              "      border-right-color: var(--fill-color);\n",
              "      border-bottom-color: var(--fill-color);\n",
              "    }\n",
              "    90% {\n",
              "      border-color: transparent;\n",
              "      border-bottom-color: var(--fill-color);\n",
              "    }\n",
              "  }\n",
              "</style>\n",
              "\n",
              "  <script>\n",
              "    async function quickchart(key) {\n",
              "      const quickchartButtonEl =\n",
              "        document.querySelector('#' + key + ' button');\n",
              "      quickchartButtonEl.disabled = true;  // To prevent multiple clicks.\n",
              "      quickchartButtonEl.classList.add('colab-df-spinner');\n",
              "      try {\n",
              "        const charts = await google.colab.kernel.invokeFunction(\n",
              "            'suggestCharts', [key], {});\n",
              "      } catch (error) {\n",
              "        console.error('Error during call to suggestCharts:', error);\n",
              "      }\n",
              "      quickchartButtonEl.classList.remove('colab-df-spinner');\n",
              "      quickchartButtonEl.classList.add('colab-df-quickchart-complete');\n",
              "    }\n",
              "    (() => {\n",
              "      let quickchartButtonEl =\n",
              "        document.querySelector('#df-2dcdb172-2aa1-4ba6-87a3-6384f1e6a048 button');\n",
              "      quickchartButtonEl.style.display =\n",
              "        google.colab.kernel.accessAllowed ? 'block' : 'none';\n",
              "    })();\n",
              "  </script>\n",
              "</div>\n",
              "\n",
              "    </div>\n",
              "  </div>\n"
            ],
            "application/vnd.google.colaboratory.intrinsic+json": {
              "type": "dataframe",
              "summary": "{\n  \"name\": \"display(df\",\n  \"rows\": 5,\n  \"fields\": [\n    {\n      \"column\": \"ID\",\n      \"properties\": {\n        \"dtype\": \"number\",\n        \"std\": 286222,\n        \"min\": 308367,\n        \"max\": 989032,\n        \"num_unique_values\": 5,\n        \"samples\": [\n          645256,\n          989032,\n          308367\n        ],\n        \"semantic_type\": \"\",\n        \"description\": \"\"\n      }\n    },\n    {\n      \"column\": \"PERIODO\",\n      \"properties\": {\n        \"dtype\": \"number\",\n        \"std\": 7,\n        \"min\": 20195,\n        \"max\": 20212,\n        \"num_unique_values\": 3,\n        \"samples\": [\n          20212,\n          20203,\n          20195\n        ],\n        \"semantic_type\": \"\",\n        \"description\": \"\"\n      }\n    },\n    {\n      \"column\": \"ESTU_PRGM_ACADEMICO\",\n      \"properties\": {\n        \"dtype\": \"string\",\n        \"num_unique_values\": 5,\n        \"samples\": [\n          \"DERECHO\",\n          \"PSICOLOGIA\",\n          \"MERCADEO Y PUBLICIDAD\"\n        ],\n        \"semantic_type\": \"\",\n        \"description\": \"\"\n      }\n    },\n    {\n      \"column\": \"ESTU_PRGM_DEPARTAMENTO\",\n      \"properties\": {\n        \"dtype\": \"string\",\n        \"num_unique_values\": 4,\n        \"samples\": [\n          \"ATLANTICO\",\n          \"ANTIOQUIA\",\n          \"BOGOT\\u00c1\"\n        ],\n        \"semantic_type\": \"\",\n        \"description\": \"\"\n      }\n    },\n    {\n      \"column\": \"ESTU_VALORMATRICULAUNIVERSIDAD\",\n      \"properties\": {\n        \"dtype\": \"string\",\n        \"num_unique_values\": 3,\n        \"samples\": [\n          \"Entre 5.5 millones y menos de 7 millones\",\n          \"Entre 2.5 millones y menos de 4 millones\",\n          \"Entre 4 millones y menos de 5.5 millones\"\n        ],\n        \"semantic_type\": \"\",\n        \"description\": \"\"\n      }\n    },\n    {\n      \"column\": \"ESTU_HORASSEMANATRABAJA\",\n      \"properties\": {\n        \"dtype\": \"string\",\n        \"num_unique_values\": 4,\n        \"samples\": [\n          \"0\",\n          \"Entre 21 y 30 horas\",\n          \"Menos de 10 horas\"\n        ],\n        \"semantic_type\": \"\",\n        \"description\": \"\"\n      }\n    },\n    {\n      \"column\": \"FAMI_ESTRATOVIVIENDA\",\n      \"properties\": {\n        \"dtype\": \"category\",\n        \"num_unique_values\": 2,\n        \"samples\": [\n          \"Estrato 4\",\n          \"Estrato 3\"\n        ],\n        \"semantic_type\": \"\",\n        \"description\": \"\"\n      }\n    },\n    {\n      \"column\": \"FAMI_TIENEINTERNET\",\n      \"properties\": {\n        \"dtype\": \"category\",\n        \"num_unique_values\": 2,\n        \"samples\": [\n          \"No\",\n          \"Si\"\n        ],\n        \"semantic_type\": \"\",\n        \"description\": \"\"\n      }\n    },\n    {\n      \"column\": \"FAMI_EDUCACIONPADRE\",\n      \"properties\": {\n        \"dtype\": \"string\",\n        \"num_unique_values\": 5,\n        \"samples\": [\n          \"T\\u00e9cnica o tecnol\\u00f3gica completa\",\n          \"Primaria completa\"\n        ],\n        \"semantic_type\": \"\",\n        \"description\": \"\"\n      }\n    },\n    {\n      \"column\": \"FAMI_EDUCACIONMADRE\",\n      \"properties\": {\n        \"dtype\": \"string\",\n        \"num_unique_values\": 4,\n        \"samples\": [\n          \"T\\u00e9cnica o tecnol\\u00f3gica incompleta\",\n          \"Primaria completa\"\n        ],\n        \"semantic_type\": \"\",\n        \"description\": \"\"\n      }\n    },\n    {\n      \"column\": \"ESTU_PAGOMATRICULAPROPIO\",\n      \"properties\": {\n        \"dtype\": \"category\",\n        \"num_unique_values\": 1,\n        \"samples\": [\n          \"No\"\n        ],\n        \"semantic_type\": \"\",\n        \"description\": \"\"\n      }\n    },\n    {\n      \"column\": \"RENDIMIENTO_GLOBAL\",\n      \"properties\": {\n        \"dtype\": \"string\",\n        \"num_unique_values\": 4,\n        \"samples\": [\n          \"bajo\"\n        ],\n        \"semantic_type\": \"\",\n        \"description\": \"\"\n      }\n    }\n  ]\n}"
            }
          },
          "metadata": {}
        },
        {
          "output_type": "display_data",
          "data": {
            "text/plain": [
              "None"
            ]
          },
          "metadata": {}
        }
      ],
      "source": [
        "import pandas as pd\n",
        "\n",
        "df = pd.read_csv('/content/udea-ai4eng-20242/train.csv')\n",
        "\n",
        "# Muestra las primeras filas del DataFrame\n",
        "from IPython.display import display\n",
        "\n",
        "display(df.head(),df.info())"
      ]
    },
    {
      "cell_type": "code",
      "execution_count": null,
      "metadata": {
        "colab": {
          "base_uri": "https://localhost:8080/"
        },
        "id": "DCUEg88UUO5e",
        "outputId": "430ea0a6-21de-4722-e215-4e74506a19c6"
      },
      "outputs": [
        {
          "output_type": "stream",
          "name": "stdout",
          "text": [
            "ESTU_VALORMATRICULAUNIVERSIDAD     6287\n",
            "ESTU_HORASSEMANATRABAJA           30857\n",
            "FAMI_ESTRATOVIVIENDA              32137\n",
            "FAMI_TIENEINTERNET                26629\n",
            "FAMI_EDUCACIONPADRE               23178\n",
            "FAMI_EDUCACIONMADRE               23664\n",
            "ESTU_PAGOMATRICULAPROPIO           6498\n",
            "dtype: int64\n"
          ]
        }
      ],
      "source": [
        "import pandas as pd\n",
        "\n",
        "# Suponiendo que 'df' es tu DataFrame\n",
        "missing_data = df.isnull().sum()\n",
        "missing_data = missing_data[missing_data > 0]  # Filtrar solo las columnas con datos faltantes\n",
        "\n",
        "print(missing_data)"
      ]
    },
    {
      "cell_type": "code",
      "source": [
        "import matplotlib.pyplot as plt\n",
        "\n",
        "plt.figure(figsize=(10, 6))\n",
        "missing_data.plot(kind='barh')\n",
        "plt.title('Cantidad de datos faltantes por variable')\n",
        "plt.xlabel('Cantidad de datos faltantes')\n",
        "plt.ylabel('Variables')\n",
        "plt.show()"
      ],
      "metadata": {
        "colab": {
          "base_uri": "https://localhost:8080/",
          "height": 564
        },
        "id": "nLhFy76Gthxp",
        "outputId": "e34dcbef-666e-4f70-86b8-57cd06ed7c35"
      },
      "execution_count": null,
      "outputs": [
        {
          "output_type": "display_data",
          "data": {
            "text/plain": [
              "<Figure size 1000x600 with 1 Axes>"
            ],
            "image/png": "[encoded data removed]"
          },
          "metadata": {}
        }
      ]
    },
    {
      "cell_type": "code",
      "source": [
        "import seaborn as sns\n",
        "import matplotlib.pyplot as plt\n",
        "\n",
        "#relación entre 'FAMI_ESTRATOVIVIENDA' y 'ESTU_VALORMATRICULAUNIVERSIDAD'\n",
        "sns.boxplot(x='FAMI_ESTRATOVIVIENDA', y='ESTU_VALORMATRICULAUNIVERSIDAD', data=df)\n",
        "plt.title('Relación entre estrato y valor de matrícula')\n",
        "plt.show()"
      ],
      "metadata": {
        "colab": {
          "base_uri": "https://localhost:8080/",
          "height": 472
        },
        "id": "pv-xHDEjuwCd",
        "outputId": "44fbfebc-8a3b-42d7-9a61-9ac9d2c2fb95"
      },
      "execution_count": null,
      "outputs": [
        {
          "output_type": "display_data",
          "data": {
            "text/plain": [
              "<Figure size 640x480 with 1 Axes>"
            ],
            "image/png": "[encoded data removed]"
          },
          "metadata": {}
        }
      ]
    },
    {
      "cell_type": "code",
      "source": [
        "import pandas as pd\n",
        "\n",
        "# relación entre 'FAMI_ESTRATOVIVIENDA' y 'ESTU_VALORMATRICULAUNIVERSIDAD'\n",
        "crosstab = pd.crosstab(df['FAMI_ESTRATOVIVIENDA'], df['ESTU_VALORMATRICULAUNIVERSIDAD'].isnull())\n",
        "print(crosstab)"
      ],
      "metadata": {
        "colab": {
          "base_uri": "https://localhost:8080/"
        },
        "id": "yBa-EOuJvbrC",
        "outputId": "20571e38-b285-4c8b-ab99-cf3bdab684a9"
      },
      "execution_count": null,
      "outputs": [
        {
          "output_type": "stream",
          "name": "stdout",
          "text": [
            "ESTU_VALORMATRICULAUNIVERSIDAD   False  True \n",
            "FAMI_ESTRATOVIVIENDA                         \n",
            "Estrato 1                       111576    415\n",
            "Estrato 2                       231573   1098\n",
            "Estrato 3                       209203   1482\n",
            "Estrato 4                        64765    749\n",
            "Estrato 5                        23249    359\n",
            "Estrato 6                        12315    290\n",
            "Sin Estrato                       3126    163\n"
          ]
        }
      ]
    },
    {
      "cell_type": "code",
      "source": [
        "import pandas as pd\n",
        "\n",
        "# Crea la tabla de contingencia\n",
        "crosstab = pd.crosstab(df['ESTU_PAGOMATRICULAPROPIO'], df['ESTU_HORASSEMANATRABAJA'].isnull())\n",
        "\n",
        "# Imprime la tabla\n",
        "print(crosstab)"
      ],
      "metadata": {
        "colab": {
          "base_uri": "https://localhost:8080/"
        },
        "id": "nvXEqfklwmMB",
        "outputId": "012bd117-ab08-4b0a-cbdf-d8c32d74c1df"
      },
      "execution_count": null,
      "outputs": [
        {
          "output_type": "stream",
          "name": "stdout",
          "text": [
            "ESTU_HORASSEMANATRABAJA    False  True \n",
            "ESTU_PAGOMATRICULAPROPIO               \n",
            "No                        365956  16245\n",
            "Si                        290937  12864\n"
          ]
        }
      ]
    },
    {
      "cell_type": "code",
      "source": [
        "import seaborn as sns\n",
        "import matplotlib.pyplot as plt\n",
        "\n",
        "# Crea el boxplot\n",
        "sns.boxplot(x='FAMI_ESTRATOVIVIENDA', y='ESTU_HORASSEMANATRABAJA', data=df)\n",
        "plt.title('Relación entre estrato y horas de trabajo')\n",
        "plt.show()"
      ],
      "metadata": {
        "colab": {
          "base_uri": "https://localhost:8080/",
          "height": 472
        },
        "id": "_XgpPVstwpSK",
        "outputId": "61e6c985-d392-4450-ca26-8533fc961d96"
      },
      "execution_count": null,
      "outputs": [
        {
          "output_type": "display_data",
          "data": {
            "text/plain": [
              "<Figure size 640x480 with 1 Axes>"
            ],
            "image/png": "[encoded data removed]"
          },
          "metadata": {}
        }
      ]
    },
    {
      "cell_type": "code",
      "source": [
        "import seaborn as sns\n",
        "import matplotlib.pyplot as plt\n",
        "\n",
        "# Crea el boxplot o gráfico de violín\n",
        "sns.violinplot(x='RENDIMIENTO_GLOBAL', y='ESTU_HORASSEMANATRABAJA', data=df)\n",
        "plt.title('Relación entre rendimiento académico y horas de trabajo')\n",
        "plt.show()"
      ],
      "metadata": {
        "colab": {
          "base_uri": "https://localhost:8080/",
          "height": 472
        },
        "id": "DNp3syQJwsmF",
        "outputId": "4a489320-3a96-4649-ec00-a76b98a7b00f"
      },
      "execution_count": null,
      "outputs": [
        {
          "output_type": "display_data",
          "data": {
            "text/plain": [
              "<Figure size 640x480 with 1 Axes>"
            ],
            "image/png": "[encoded data removed]"
          },
          "metadata": {}
        }
      ]
    },
    {
      "cell_type": "code",
      "source": [
        "import seaborn as sns\n",
        "import matplotlib.pyplot as plt\n",
        "\n",
        "sns.boxplot(x='FAMI_ESTRATOVIVIENDA', y='ESTU_VALORMATRICULAUNIVERSIDAD', data=df)\n",
        "plt.title('Relación entre Estrato y Valor de Matrícula')\n",
        "plt.show()"
      ],
      "metadata": {
        "colab": {
          "base_uri": "https://localhost:8080/",
          "height": 472
        },
        "id": "Fs4sO00Ox5Ne",
        "outputId": "5379a591-122a-445f-95e2-46ab54281cee"
      },
      "execution_count": null,
      "outputs": [
        {
          "output_type": "display_data",
          "data": {
            "text/plain": [
              "<Figure size 640x480 with 1 Axes>"
            ],
            "image/png": "[encoded data removed]"
          },
          "metadata": {}
        }
      ]
    },
    {
      "cell_type": "code",
      "source": [
        "import pandas as pd\n",
        "\n",
        "crosstab = pd.crosstab(df['ESTU_PAGOMATRICULAPROPIO'], df['ESTU_VALORMATRICULAUNIVERSIDAD'].isnull())\n",
        "print(crosstab)"
      ],
      "metadata": {
        "colab": {
          "base_uri": "https://localhost:8080/"
        },
        "id": "pEvv3sARx884",
        "outputId": "582b3d16-08b9-4091-a99c-ea2077c23a01"
      },
      "execution_count": null,
      "outputs": [
        {
          "output_type": "stream",
          "name": "stdout",
          "text": [
            "ESTU_VALORMATRICULAUNIVERSIDAD   False\n",
            "ESTU_PAGOMATRICULAPROPIO              \n",
            "No                              382201\n",
            "Si                              303801\n"
          ]
        }
      ]
    },
    {
      "cell_type": "code",
      "source": [
        "import pandas as pd\n",
        "\n",
        "crosstab = pd.crosstab(df['FAMI_TIENEINTERNET'], df['FAMI_ESTRATOVIVIENDA'].isnull())\n",
        "print(crosstab)"
      ],
      "metadata": {
        "colab": {
          "base_uri": "https://localhost:8080/"
        },
        "id": "vU-AHAe0ybTW",
        "outputId": "0840bdb6-9600-4887-afe6-aa9c00ec9bf7"
      },
      "execution_count": null,
      "outputs": [
        {
          "output_type": "stream",
          "name": "stdout",
          "text": [
            "FAMI_ESTRATOVIVIENDA   False  True \n",
            "FAMI_TIENEINTERNET                 \n",
            "No                     72250   1107\n",
            "Si                    586602   5912\n"
          ]
        }
      ]
    },
    {
      "cell_type": "code",
      "source": [
        "import seaborn as sns\n",
        "import matplotlib.pyplot as plt\n",
        "\n",
        "sns.boxplot(x='FAMI_EDUCACIONPADRE', y='FAMI_ESTRATOVIVIENDA', data=df)\n",
        "plt.title('Relación entre Educación del Padre y Estrato')\n",
        "plt.xticks(rotation=90)\n",
        "plt.show()\n",
        "\n",
        "sns.boxplot(x='FAMI_EDUCACIONMADRE', y='FAMI_ESTRATOVIVIENDA', data=df)\n",
        "plt.title('Relación entre Educación de la Madre y Estrato')\n",
        "plt.xticks(rotation=90)\n",
        "plt.show()"
      ],
      "metadata": {
        "colab": {
          "base_uri": "https://localhost:8080/",
          "height": 1000
        },
        "id": "gDmu5ZVtydZK",
        "outputId": "cda6a749-7f3d-48a5-b9b0-c9fd0d02d066"
      },
      "execution_count": null,
      "outputs": [
        {
          "output_type": "display_data",
          "data": {
            "text/plain": [
              "<Figure size 640x480 with 1 Axes>"
            ],
            "image/png": "[encoded data removed]"
          },
          "metadata": {}
        },
        {
          "output_type": "display_data",
          "data": {
            "text/plain": [
              "<Figure size 640x480 with 1 Axes>"
            ],
            "image/png": "[encoded data removed]"
          },
          "metadata": {}
        }
      ]
    },
    {
      "cell_type": "code",
      "source": [
        "import pandas as pd\n",
        "\n",
        "crosstab = pd.crosstab(df['FAMI_ESTRATOVIVIENDA'], df['FAMI_TIENEINTERNET'].isnull())\n",
        "print(crosstab)"
      ],
      "metadata": {
        "colab": {
          "base_uri": "https://localhost:8080/"
        },
        "id": "uPt0-B6FzCwX",
        "outputId": "6764d1dc-a828-4855-b9ed-1af6daf9dd2b"
      },
      "execution_count": null,
      "outputs": [
        {
          "output_type": "stream",
          "name": "stdout",
          "text": [
            "FAMI_TIENEINTERNET     False  True \n",
            "FAMI_ESTRATOVIVIENDA               \n",
            "Estrato 1             111724    267\n",
            "Estrato 2             232222    449\n",
            "Estrato 3             210287    398\n",
            "Estrato 4              65345    169\n",
            "Estrato 5              23512     96\n",
            "Estrato 6              12543     62\n",
            "Sin Estrato             3219     70\n"
          ]
        }
      ]
    },
    {
      "cell_type": "code",
      "source": [
        "import pandas as pd\n",
        "\n",
        "crosstab_padre = pd.crosstab(df['FAMI_EDUCACIONPADRE'], df['FAMI_TIENEINTERNET'].isnull())\n",
        "print(crosstab_padre)\n",
        "\n",
        "crosstab_madre = pd.crosstab(df['FAMI_EDUCACIONMADRE'], df['FAMI_TIENEINTERNET'].isnull())\n",
        "print(crosstab_madre)"
      ],
      "metadata": {
        "colab": {
          "base_uri": "https://localhost:8080/"
        },
        "id": "HxVYXI8ZzJ6v",
        "outputId": "cd7f30fe-9e04-4266-ed31-3d6e619150fa"
      },
      "execution_count": null,
      "outputs": [
        {
          "output_type": "stream",
          "name": "stdout",
          "text": [
            "FAMI_TIENEINTERNET                     False  True \n",
            "FAMI_EDUCACIONPADRE                                \n",
            "Educación profesional completa         82487    630\n",
            "Educación profesional incompleta       26775    309\n",
            "Ninguno                                21664    344\n",
            "No Aplica                               9162     67\n",
            "No sabe                                16483    109\n",
            "Postgrado                              43875    294\n",
            "Primaria completa                      55441    517\n",
            "Primaria incompleta                   124560   1115\n",
            "Secundaria (Bachillerato) completa    127366    923\n",
            "Secundaria (Bachillerato) incompleta   71102    552\n",
            "Técnica o tecnológica completa         62581    414\n",
            "Técnica o tecnológica incompleta       22320    232\n",
            "FAMI_TIENEINTERNET                     False  True \n",
            "FAMI_EDUCACIONMADRE                                \n",
            "Educación profesional completa         84794    532\n",
            "Educación profesional incompleta       22285    185\n",
            "Ninguno                                14291    192\n",
            "No Aplica                               1890     28\n",
            "No sabe                                 2979     38\n",
            "Postgrado                              45977    269\n",
            "Primaria completa                      55643    482\n",
            "Primaria incompleta                    98590    830\n",
            "Secundaria (Bachillerato) completa    140796    948\n",
            "Secundaria (Bachillerato) incompleta   80464    548\n",
            "Técnica o tecnológica completa         89019    523\n",
            "Técnica o tecnológica incompleta       27322    211\n"
          ]
        }
      ]
    },
    {
      "cell_type": "code",
      "source": [
        "import seaborn as sns\n",
        "import matplotlib.pyplot as plt\n",
        "\n",
        "sns.boxplot(x='FAMI_TIENEINTERNET', y='RENDIMIENTO_GLOBAL', data=df)  # O usar sns.violinplot\n",
        "plt.title('Relación entre Acceso a Internet y Rendimiento Global')\n",
        "plt.show()"
      ],
      "metadata": {
        "colab": {
          "base_uri": "https://localhost:8080/",
          "height": 472
        },
        "id": "GKEvMqCezNke",
        "outputId": "506ed6f5-4183-4664-9b13-3ef2ab732f8c"
      },
      "execution_count": null,
      "outputs": [
        {
          "output_type": "display_data",
          "data": {
            "text/plain": [
              "<Figure size 640x480 with 1 Axes>"
            ],
            "image/png": "[encoded data removed]"
          },
          "metadata": {}
        }
      ]
    },
    {
      "cell_type": "code",
      "source": [
        "import pandas as pd\n",
        "\n",
        "crosstab = pd.crosstab(df['FAMI_ESTRATOVIVIENDA'], df['FAMI_EDUCACIONPADRE'].isnull())\n",
        "print(crosstab)"
      ],
      "metadata": {
        "colab": {
          "base_uri": "https://localhost:8080/"
        },
        "id": "sKC9nFNLzeTa",
        "outputId": "de46a2db-9bb6-4a5f-8f3d-de9f9bebf3f7"
      },
      "execution_count": null,
      "outputs": [
        {
          "output_type": "stream",
          "name": "stdout",
          "text": [
            "FAMI_EDUCACIONPADRE    False  True \n",
            "FAMI_ESTRATOVIVIENDA               \n",
            "Estrato 1             111642    349\n",
            "Estrato 2             232018    653\n",
            "Estrato 3             210101    584\n",
            "Estrato 4              65372    142\n",
            "Estrato 5              23553     55\n",
            "Estrato 6              12592     13\n",
            "Sin Estrato             3259     30\n"
          ]
        }
      ]
    },
    {
      "cell_type": "code",
      "source": [
        "import pandas as pd\n",
        "\n",
        "crosstab = pd.crosstab(df['FAMI_EDUCACIONMADRE'], df['FAMI_EDUCACIONPADRE'].isnull())\n",
        "print(crosstab)"
      ],
      "metadata": {
        "colab": {
          "base_uri": "https://localhost:8080/"
        },
        "id": "isggZzWxzlmG",
        "outputId": "81207c39-068e-440d-9d29-93c2ae368fb0"
      },
      "execution_count": null,
      "outputs": [
        {
          "output_type": "stream",
          "name": "stdout",
          "text": [
            "FAMI_EDUCACIONPADRE                    False  True \n",
            "FAMI_EDUCACIONMADRE                                \n",
            "Educación profesional completa         85220    106\n",
            "Educación profesional incompleta       22368    102\n",
            "Ninguno                                14399     84\n",
            "No Aplica                               1909      9\n",
            "No sabe                                 3013      4\n",
            "Postgrado                              46197     49\n",
            "Primaria completa                      56027     98\n",
            "Primaria incompleta                    99192    228\n",
            "Secundaria (Bachillerato) completa    141532    212\n",
            "Secundaria (Bachillerato) incompleta   80897    115\n",
            "Técnica o tecnológica completa         89410    132\n",
            "Técnica o tecnológica incompleta       27477     56\n"
          ]
        }
      ]
    },
    {
      "cell_type": "code",
      "source": [
        "import pandas as pd\n",
        "\n",
        "crosstab = pd.crosstab(df['FAMI_TIENEINTERNET'], df['FAMI_EDUCACIONPADRE'].isnull())\n",
        "print(crosstab)"
      ],
      "metadata": {
        "colab": {
          "base_uri": "https://localhost:8080/"
        },
        "id": "aSbWxr1mznqz",
        "outputId": "035b1175-f413-4c4b-bafa-30488b14ed2a"
      },
      "execution_count": null,
      "outputs": [
        {
          "output_type": "stream",
          "name": "stdout",
          "text": [
            "FAMI_EDUCACIONPADRE   False  True \n",
            "FAMI_TIENEINTERNET                \n",
            "No                    72981    376\n",
            "Si                   590835   1679\n"
          ]
        }
      ]
    },
    {
      "cell_type": "code",
      "source": [
        "import seaborn as sns\n",
        "import matplotlib.pyplot as plt\n",
        "\n",
        "sns.boxplot(x='FAMI_EDUCACIONPADRE', y='RENDIMIENTO_GLOBAL', data=df)  # O usar sns.violinplot\n",
        "plt.title('Relación entre Educación del Padre y Rendimiento Global')\n",
        "plt.xticks(rotation=90)\n",
        "plt.show()"
      ],
      "metadata": {
        "colab": {
          "base_uri": "https://localhost:8080/",
          "height": 717
        },
        "id": "QFP3d_AwzpVi",
        "outputId": "07394ff7-2ac7-4b8a-9158-d875ec4279da"
      },
      "execution_count": null,
      "outputs": [
        {
          "output_type": "display_data",
          "data": {
            "text/plain": [
              "<Figure size 640x480 with 1 Axes>"
            ],
            "image/png": "[encoded data removed]"
          },
          "metadata": {}
        }
      ]
    },
    {
      "cell_type": "code",
      "source": [
        "import pandas as pd\n",
        "\n",
        "crosstab = pd.crosstab(df['FAMI_ESTRATOVIVIENDA'], df['FAMI_EDUCACIONMADRE'].isnull())\n",
        "print(crosstab)"
      ],
      "metadata": {
        "colab": {
          "base_uri": "https://localhost:8080/"
        },
        "id": "z9xKqH6Xz3cP",
        "outputId": "126fe2c2-8575-433d-9dcf-c125bfc6ec04"
      },
      "execution_count": null,
      "outputs": [
        {
          "output_type": "stream",
          "name": "stdout",
          "text": [
            "FAMI_EDUCACIONMADRE    False  True \n",
            "FAMI_ESTRATOVIVIENDA               \n",
            "Estrato 1             111661    330\n",
            "Estrato 2             232156    515\n",
            "Estrato 3             210217    468\n",
            "Estrato 4              65370    144\n",
            "Estrato 5              23549     59\n",
            "Estrato 6              12577     28\n",
            "Sin Estrato             3247     42\n"
          ]
        }
      ]
    },
    {
      "cell_type": "code",
      "source": [
        "import pandas as pd\n",
        "\n",
        "crosstab = pd.crosstab(df['FAMI_EDUCACIONPADRE'], df['FAMI_EDUCACIONMADRE'].isnull())\n",
        "print(crosstab)"
      ],
      "metadata": {
        "id": "B5mHTgrBzK_p",
        "colab": {
          "base_uri": "https://localhost:8080/"
        },
        "outputId": "6a1de0ee-7d7f-4e2d-e18e-419dd1e1e7e1"
      },
      "execution_count": null,
      "outputs": [
        {
          "output_type": "stream",
          "name": "stdout",
          "text": [
            "FAMI_EDUCACIONMADRE                    False  True \n",
            "FAMI_EDUCACIONPADRE                                \n",
            "Educación profesional completa         82915    202\n",
            "Educación profesional incompleta       26914    170\n",
            "Ninguno                                21861    147\n",
            "No Aplica                               9204     25\n",
            "No sabe                                16555     37\n",
            "Postgrado                              44099     70\n",
            "Primaria completa                      55818    140\n",
            "Primaria incompleta                   125389    286\n",
            "Secundaria (Bachillerato) completa    128053    236\n",
            "Secundaria (Bachillerato) incompleta   71521    133\n",
            "Técnica o tecnológica completa         62839    156\n",
            "Técnica o tecnológica incompleta       22473     79\n"
          ]
        }
      ]
    },
    {
      "cell_type": "code",
      "source": [
        "import pandas as pd\n",
        "\n",
        "crosstab = pd.crosstab(df['FAMI_TIENEINTERNET'], df['FAMI_EDUCACIONMADRE'].isnull())\n",
        "print(crosstab)"
      ],
      "metadata": {
        "colab": {
          "base_uri": "https://localhost:8080/"
        },
        "id": "Ek7T6eWe0BfG",
        "outputId": "ff2a4fd7-2ff8-4593-d150-b69cd59f3104"
      },
      "execution_count": null,
      "outputs": [
        {
          "output_type": "stream",
          "name": "stdout",
          "text": [
            "FAMI_EDUCACIONMADRE   False  True \n",
            "FAMI_TIENEINTERNET                \n",
            "No                    73002    355\n",
            "Si                   591048   1466\n"
          ]
        }
      ]
    },
    {
      "cell_type": "code",
      "source": [
        "import seaborn as sns\n",
        "import matplotlib.pyplot as plt\n",
        "\n",
        "sns.boxplot(x='FAMI_EDUCACIONMADRE', y='RENDIMIENTO_GLOBAL', data=df)  # O usar sns.violinplot\n",
        "plt.title('Relación entre Educación de la Madre y Rendimiento Global')\n",
        "plt.xticks(rotation=90)\n",
        "plt.show()"
      ],
      "metadata": {
        "colab": {
          "base_uri": "https://localhost:8080/",
          "height": 717
        },
        "id": "JGsW69DM0DfS",
        "outputId": "8e5c96ec-0004-4370-f390-6c0a550ef4b9"
      },
      "execution_count": null,
      "outputs": [
        {
          "output_type": "display_data",
          "data": {
            "text/plain": [
              "<Figure size 640x480 with 1 Axes>"
            ],
            "image/png": "[encoded data removed]"
          },
          "metadata": {}
        }
      ]
    },
    {
      "cell_type": "code",
      "source": [
        "import pandas as pd\n",
        "\n",
        "crosstab = pd.crosstab(df['FAMI_ESTRATOVIVIENDA'], df['ESTU_PAGOMATRICULAPROPIO'].isnull())\n",
        "print(crosstab)"
      ],
      "metadata": {
        "colab": {
          "base_uri": "https://localhost:8080/"
        },
        "id": "2GjaAjJI0R8z",
        "outputId": "99481ac1-bf17-477a-e8b5-937183d7243c"
      },
      "execution_count": null,
      "outputs": [
        {
          "output_type": "stream",
          "name": "stdout",
          "text": [
            "ESTU_PAGOMATRICULAPROPIO   False  True \n",
            "FAMI_ESTRATOVIVIENDA                   \n",
            "Estrato 1                 111527    464\n",
            "Estrato 2                 231514   1157\n",
            "Estrato 3                 209146   1539\n",
            "Estrato 4                  64741    773\n",
            "Estrato 5                  23242    366\n",
            "Estrato 6                  12308    297\n",
            "Sin Estrato                 3126    163\n"
          ]
        }
      ]
    },
    {
      "cell_type": "code",
      "source": [
        "import pandas as pd\n",
        "\n",
        "crosstab = pd.crosstab(df['ESTU_VALORMATRICULAUNIVERSIDAD'], df['ESTU_PAGOMATRICULAPROPIO'].isnull())\n",
        "print(crosstab)"
      ],
      "metadata": {
        "colab": {
          "base_uri": "https://localhost:8080/"
        },
        "id": "A9P9YZ3X0YAH",
        "outputId": "389f47ac-a7ec-4d64-c862-bc85591a35c7"
      },
      "execution_count": null,
      "outputs": [
        {
          "output_type": "stream",
          "name": "stdout",
          "text": [
            "ESTU_PAGOMATRICULAPROPIO                   False  True \n",
            "ESTU_VALORMATRICULAUNIVERSIDAD                         \n",
            "Entre 1 millón y menos de 2.5 millones    204000     48\n",
            "Entre 2.5 millones y menos de 4 millones  127385     45\n",
            "Entre 4 millones y menos de 5.5 millones   69718     18\n",
            "Entre 5.5 millones y menos de 7 millones   38481      9\n",
            "Entre 500 mil y menos de 1 millón          78674     30\n",
            "Menos de 500 mil                           80237     26\n",
            "Más de 7 millones                          67986     28\n",
            "No pagó matrícula                          19521      7\n"
          ]
        }
      ]
    },
    {
      "cell_type": "code",
      "source": [
        "import pandas as pd\n",
        "\n",
        "crosstab = pd.crosstab(df['ESTU_HORASSEMANATRABAJA'], df['ESTU_PAGOMATRICULAPROPIO'].isnull())\n",
        "print(crosstab)"
      ],
      "metadata": {
        "colab": {
          "base_uri": "https://localhost:8080/"
        },
        "id": "73J3mBzj0asn",
        "outputId": "af3ca5a4-7b7f-4c95-cb59-bfcd86e8a5de"
      },
      "execution_count": null,
      "outputs": [
        {
          "output_type": "stream",
          "name": "stdout",
          "text": [
            "ESTU_PAGOMATRICULAPROPIO   False  True \n",
            "ESTU_HORASSEMANATRABAJA                \n",
            "0                         115521   1029\n",
            "Entre 11 y 20 horas       115044    813\n",
            "Entre 21 y 30 horas        91987    706\n",
            "Menos de 10 horas          86637    554\n",
            "Más de 30 horas           247704   1648\n"
          ]
        }
      ]
    },
    {
      "cell_type": "code",
      "source": [
        "import seaborn as sns\n",
        "import matplotlib.pyplot as plt\n",
        "\n",
        "sns.boxplot(x='ESTU_PAGOMATRICULAPROPIO', y='RENDIMIENTO_GLOBAL', data=df)  # O usar sns.violinplot\n",
        "plt.title('Relación entre Pago de Matrícula y Rendimiento Global')\n",
        "plt.show()"
      ],
      "metadata": {
        "colab": {
          "base_uri": "https://localhost:8080/",
          "height": 472
        },
        "id": "PCurIZol0cxn",
        "outputId": "4661c183-59ea-45f2-df23-56c08af33185"
      },
      "execution_count": null,
      "outputs": [
        {
          "output_type": "display_data",
          "data": {
            "text/plain": [
              "<Figure size 640x480 with 1 Axes>"
            ],
            "image/png": "[encoded data removed]"
          },
          "metadata": {}
        }
      ]
    },
    {
      "cell_type": "markdown",
      "source": [
        "Codificamos one-hot las variables categoricas pero que no tienen un orden jerarquico"
      ],
      "metadata": {
        "id": "RsFo3As48SjM"
      }
    },
    {
      "cell_type": "code",
      "execution_count": null,
      "metadata": {
        "id": "5-KZGrOAzLsR"
      },
      "outputs": [],
      "source": [
        "# Codificación one-hot para variables categóricas\n",
        "df = pd.get_dummies(df, columns=['ESTU_PRGM_ACADEMICO', 'ESTU_PRGM_DEPARTAMENTO', 'FAMI_ESTRATOVIVIENDA', 'ESTU_HORASSEMANATRABAJA', 'FAMI_TIENEINTERNET', 'ESTU_PAGOMATRICULAPROPIO', 'ESTU_VALORMATRICULAUNIVERSIDAD'], drop_first=True, dtype=int)"
      ]
    },
    {
      "cell_type": "markdown",
      "source": [
        "imputamos con el valor mas frecuente para las variables educacion padre y madre, para luego hacer una codificacion ordinal y darle la importancia a cada nivel academico alcanzado por los padres\n"
      ],
      "metadata": {
        "id": "blhpCfIj8eJh"
      }
    },
    {
      "cell_type": "code",
      "source": [
        "import numpy as np\n",
        "import pandas as pd\n",
        "from sklearn.impute import SimpleImputer\n",
        "\n",
        "# Crea un SimpleImputer con la estrategia deseada (ej., 'mean', 'median', 'most_frequent')\n",
        "imputer = SimpleImputer(strategy='most_frequent') # Elige la estrategia deseada\n",
        "\n",
        "# Selecciona las columnas numéricas para la imputación\n",
        "columns_imputer = ['FAMI_EDUCACIONPADRE', 'FAMI_EDUCACIONMADRE']\n",
        "\n",
        "# Aplica la imputación a las columnas seleccionadas\n",
        "df[columns_imputer] = imputer.fit_transform(df[columns_imputer])"
      ],
      "metadata": {
        "id": "sLDWqrMoVVwb"
      },
      "execution_count": null,
      "outputs": []
    },
    {
      "cell_type": "code",
      "source": [
        "import numpy as np\n",
        "#codificacion ordinal educacion padre\n",
        "educacion_mapping = {\n",
        "    \"Ninguno\": 0,\n",
        "    \"No sabe\": 1,\n",
        "    \"No Aplica\": 2,\n",
        "    \"Primaria incompleta\": 3,\n",
        "    \"Primaria completa\": 4,\n",
        "    \"Secundaria (Bachillerato) incompleta\": 5,\n",
        "    \"Secundaria (Bachillerato) completa\": 6,\n",
        "    \"Técnica o tecnológica incompleta\":7,\n",
        "    \"Técnica o tecnológica completa\":8,\n",
        "    \"Educación profesional incompleta\": 9,\n",
        "    \"Educación profesional completa\": 10,\n",
        "    \"Postgrado\": 11\n",
        "}\n",
        "df['FAMI_EDUCACIONPADRE_ORDINAL'] = df['FAMI_EDUCACIONPADRE'].map(educacion_mapping)"
      ],
      "metadata": {
        "id": "I2nH5oHyG_2j"
      },
      "execution_count": null,
      "outputs": []
    },
    {
      "cell_type": "code",
      "source": [
        "#codificacion ordinal educacion madre\n",
        "educacion_mapping = {\n",
        "    \"Ninguno\": 0,\n",
        "    \"No sabe\": 1,\n",
        "    \"No Aplica\": 2,\n",
        "    \"Primaria incompleta\": 3,\n",
        "    \"Primaria completa\": 4,\n",
        "    \"Secundaria (Bachillerato) incompleta\": 5,\n",
        "    \"Secundaria (Bachillerato) completa\": 6,\n",
        "    \"Técnica o tecnológica incompleta\":7,\n",
        "    \"Técnica o tecnológica completa\":8,\n",
        "    \"Educación profesional incompleta\": 9,\n",
        "    \"Educación profesional completa\": 10,\n",
        "    \"Postgrado\": 11\n",
        "}\n",
        "df['FAMI_EDUCACIONMADRE_ORDINAL'] = df['FAMI_EDUCACIONMADRE'].map(educacion_mapping)\n"
      ],
      "metadata": {
        "id": "yXxmb0FaHBFv"
      },
      "execution_count": null,
      "outputs": []
    },
    {
      "cell_type": "code",
      "source": [
        "df = df.drop(['FAMI_EDUCACIONPADRE', 'FAMI_EDUCACIONMADRE'], axis=1)"
      ],
      "metadata": {
        "id": "_njZgBfaHKzP"
      },
      "execution_count": null,
      "outputs": []
    },
    {
      "cell_type": "code",
      "source": [
        "df.isnull().sum()"
      ],
      "metadata": {
        "colab": {
          "base_uri": "https://localhost:8080/",
          "height": 458
        },
        "id": "BlEleM6LIGe3",
        "outputId": "c2f53175-664f-4d2e-da10-ab44de30b8d9"
      },
      "execution_count": null,
      "outputs": [
        {
          "output_type": "execute_result",
          "data": {
            "text/plain": [
              "ID                                                  0\n",
              "PERIODO                                             0\n",
              "RENDIMIENTO_GLOBAL                                  0\n",
              "ESTU_PRGM_ACADEMICO_ACTIVIDAD FISICA Y DEPORTE      0\n",
              "ESTU_PRGM_ACADEMICO_ACUICULTURA                     0\n",
              "                                                   ..\n",
              "ESTU_VALORMATRICULAUNIVERSIDAD_Menos de 500 mil     0\n",
              "ESTU_VALORMATRICULAUNIVERSIDAD_Más de 7 millones    0\n",
              "ESTU_VALORMATRICULAUNIVERSIDAD_No pagó matrícula    0\n",
              "FAMI_EDUCACIONPADRE_ORDINAL                         0\n",
              "FAMI_EDUCACIONMADRE_ORDINAL                         0\n",
              "Length: 1001, dtype: int64"
            ],
            "text/html": [
              "<div>\n",
              "<style scoped>\n",
              "    .dataframe tbody tr th:only-of-type {\n",
              "        vertical-align: middle;\n",
              "    }\n",
              "\n",
              "    .dataframe tbody tr th {\n",
              "        vertical-align: top;\n",
              "    }\n",
              "\n",
              "    .dataframe thead th {\n",
              "        text-align: right;\n",
              "    }\n",
              "</style>\n",
              "<table border=\"1\" class=\"dataframe\">\n",
              "  <thead>\n",
              "    <tr style=\"text-align: right;\">\n",
              "      <th></th>\n",
              "      <th>0</th>\n",
              "    </tr>\n",
              "  </thead>\n",
              "  <tbody>\n",
              "    <tr>\n",
              "      <th>ID</th>\n",
              "      <td>0</td>\n",
              "    </tr>\n",
              "    <tr>\n",
              "      <th>PERIODO</th>\n",
              "      <td>0</td>\n",
              "    </tr>\n",
              "    <tr>\n",
              "      <th>RENDIMIENTO_GLOBAL</th>\n",
              "      <td>0</td>\n",
              "    </tr>\n",
              "    <tr>\n",
              "      <th>ESTU_PRGM_ACADEMICO_ACTIVIDAD FISICA Y DEPORTE</th>\n",
              "      <td>0</td>\n",
              "    </tr>\n",
              "    <tr>\n",
              "      <th>ESTU_PRGM_ACADEMICO_ACUICULTURA</th>\n",
              "      <td>0</td>\n",
              "    </tr>\n",
              "    <tr>\n",
              "      <th>...</th>\n",
              "      <td>...</td>\n",
              "    </tr>\n",
              "    <tr>\n",
              "      <th>ESTU_VALORMATRICULAUNIVERSIDAD_Menos de 500 mil</th>\n",
              "      <td>0</td>\n",
              "    </tr>\n",
              "    <tr>\n",
              "      <th>ESTU_VALORMATRICULAUNIVERSIDAD_Más de 7 millones</th>\n",
              "      <td>0</td>\n",
              "    </tr>\n",
              "    <tr>\n",
              "      <th>ESTU_VALORMATRICULAUNIVERSIDAD_No pagó matrícula</th>\n",
              "      <td>0</td>\n",
              "    </tr>\n",
              "    <tr>\n",
              "      <th>FAMI_EDUCACIONPADRE_ORDINAL</th>\n",
              "      <td>0</td>\n",
              "    </tr>\n",
              "    <tr>\n",
              "      <th>FAMI_EDUCACIONMADRE_ORDINAL</th>\n",
              "      <td>0</td>\n",
              "    </tr>\n",
              "  </tbody>\n",
              "</table>\n",
              "<p>1001 rows × 1 columns</p>\n",
              "</div><br><label><b>dtype:</b> int64</label>"
            ]
          },
          "metadata": {},
          "execution_count": 102
        }
      ]
    },
    {
      "cell_type": "markdown",
      "source": [
        "hacemos la imputacion por knn para las categorias con codificacion one hot"
      ],
      "metadata": {
        "id": "-UGHduV_8zM_"
      }
    },
    {
      "cell_type": "code",
      "source": [
        "!pip install scikit-learn==1.3.0"
      ],
      "metadata": {
        "colab": {
          "base_uri": "https://localhost:8080/"
        },
        "id": "fx35Tevo0NW8",
        "outputId": "10f24a28-c646-4119-a47d-f063a8b400ab"
      },
      "execution_count": null,
      "outputs": [
        {
          "output_type": "stream",
          "name": "stdout",
          "text": [
            "Requirement already satisfied: scikit-learn==1.3.0 in /usr/local/lib/python3.10/dist-packages (1.3.0)\n",
            "Requirement already satisfied: numpy>=1.17.3 in /usr/local/lib/python3.10/dist-packages (from scikit-learn==1.3.0) (1.26.4)\n",
            "Requirement already satisfied: scipy>=1.5.0 in /usr/local/lib/python3.10/dist-packages (from scikit-learn==1.3.0) (1.13.1)\n",
            "Requirement already satisfied: joblib>=1.1.1 in /usr/local/lib/python3.10/dist-packages (from scikit-learn==1.3.0) (1.4.2)\n",
            "Requirement already satisfied: threadpoolctl>=2.0.0 in /usr/local/lib/python3.10/dist-packages (from scikit-learn==1.3.0) (3.5.0)\n"
          ]
        }
      ]
    },
    {
      "cell_type": "code",
      "source": [
        "from sklearn.impute import KNNImputer"
      ],
      "metadata": {
        "id": "JVvRKfNb0RG1"
      },
      "execution_count": null,
      "outputs": []
    },
    {
      "cell_type": "code",
      "source": [
        "imputer = KNNImputer(n_neighbors=5)  # Puedes ajustar el número de vecinos (n_neighbors)"
      ],
      "metadata": {
        "id": "Kf3pF20D0VI6"
      },
      "execution_count": null,
      "outputs": []
    },
    {
      "cell_type": "code",
      "source": [
        "import numpy as np # Import the numpy library and assign it the alias 'np'\n",
        "\n",
        "# Asegúrate de que 'df' contenga solo las columnas numéricas antes de la imputación\n",
        "columnas_numericas = df.select_dtypes(include=np.number).columns\n",
        "df_imputed = imputer.fit_transform(df[columnas_numericas])\n",
        "\n",
        "# Crea un nuevo DataFrame con los valores imputados\n",
        "df_imputed = pd.DataFrame(df_imputed, columns=columnas_numericas, index=df.index)\n",
        "\n",
        "# Reemplaza las columnas originales con las columnas imputadas\n",
        "df[columnas_numericas] = df_imputed"
      ],
      "metadata": {
        "id": "xEWrDpto0d3u"
      },
      "execution_count": null,
      "outputs": []
    },
    {
      "cell_type": "code",
      "execution_count": null,
      "metadata": {
        "colab": {
          "base_uri": "https://localhost:8080/",
          "height": 377
        },
        "id": "TUS3yNMlU3TD",
        "outputId": "be539dc1-c354-486f-cf7a-c7e88cfcd83b"
      },
      "outputs": [
        {
          "output_type": "stream",
          "name": "stdout",
          "text": [
            "<class 'pandas.core.frame.DataFrame'>\n",
            "RangeIndex: 692500 entries, 0 to 692499\n",
            "Columns: 1001 entries, ID to FAMI_EDUCACIONMADRE_ORDINAL\n",
            "dtypes: float64(1000), object(1)\n",
            "memory usage: 5.2+ GB\n"
          ]
        },
        {
          "output_type": "display_data",
          "data": {
            "text/plain": [
              "         ID  PERIODO RENDIMIENTO_GLOBAL  \\\n",
              "0  904256.0  20212.0         medio-alto   \n",
              "1  645256.0  20212.0               bajo   \n",
              "2  308367.0  20203.0               bajo   \n",
              "3  470353.0  20195.0               alto   \n",
              "4  989032.0  20212.0         medio-bajo   \n",
              "\n",
              "   ESTU_PRGM_ACADEMICO_ACTIVIDAD FISICA Y DEPORTE  \\\n",
              "0                                             0.0   \n",
              "1                                             0.0   \n",
              "2                                             0.0   \n",
              "3                                             0.0   \n",
              "4                                             0.0   \n",
              "\n",
              "   ESTU_PRGM_ACADEMICO_ACUICULTURA  ESTU_PRGM_ACADEMICO_ADMINISTRACION  \\\n",
              "0                              0.0                                 0.0   \n",
              "1                              0.0                                 0.0   \n",
              "2                              0.0                                 0.0   \n",
              "3                              0.0                                 0.0   \n",
              "4                              0.0                                 0.0   \n",
              "\n",
              "   ESTU_PRGM_ACADEMICO_ADMINISTRACION  FINANCIERA  \\\n",
              "0                                             0.0   \n",
              "1                                             0.0   \n",
              "2                                             0.0   \n",
              "3                                             0.0   \n",
              "4                                             0.0   \n",
              "\n",
              "   ESTU_PRGM_ACADEMICO_ADMINISTRACION & SERVICIO  \\\n",
              "0                                            0.0   \n",
              "1                                            0.0   \n",
              "2                                            0.0   \n",
              "3                                            0.0   \n",
              "4                                            0.0   \n",
              "\n",
              "   ESTU_PRGM_ACADEMICO_ADMINISTRACION AERONAUTICA  \\\n",
              "0                                             0.0   \n",
              "1                                             0.0   \n",
              "2                                             0.0   \n",
              "3                                             0.0   \n",
              "4                                             0.0   \n",
              "\n",
              "   ESTU_PRGM_ACADEMICO_ADMINISTRACION AGROPECUARIA  ...  \\\n",
              "0                                              0.0  ...   \n",
              "1                                              0.0  ...   \n",
              "2                                              0.0  ...   \n",
              "3                                              0.0  ...   \n",
              "4                                              0.0  ...   \n",
              "\n",
              "   ESTU_PAGOMATRICULAPROPIO_Si  \\\n",
              "0                          0.0   \n",
              "1                          0.0   \n",
              "2                          0.0   \n",
              "3                          0.0   \n",
              "4                          0.0   \n",
              "\n",
              "   ESTU_VALORMATRICULAUNIVERSIDAD_Entre 2.5 millones y menos de 4 millones  \\\n",
              "0                                                0.0                         \n",
              "1                                                1.0                         \n",
              "2                                                1.0                         \n",
              "3                                                0.0                         \n",
              "4                                                1.0                         \n",
              "\n",
              "   ESTU_VALORMATRICULAUNIVERSIDAD_Entre 4 millones y menos de 5.5 millones  \\\n",
              "0                                                0.0                         \n",
              "1                                                0.0                         \n",
              "2                                                0.0                         \n",
              "3                                                1.0                         \n",
              "4                                                0.0                         \n",
              "\n",
              "   ESTU_VALORMATRICULAUNIVERSIDAD_Entre 5.5 millones y menos de 7 millones  \\\n",
              "0                                                1.0                         \n",
              "1                                                0.0                         \n",
              "2                                                0.0                         \n",
              "3                                                0.0                         \n",
              "4                                                0.0                         \n",
              "\n",
              "   ESTU_VALORMATRICULAUNIVERSIDAD_Entre 500 mil y menos de 1 millón  \\\n",
              "0                                                0.0                  \n",
              "1                                                0.0                  \n",
              "2                                                0.0                  \n",
              "3                                                0.0                  \n",
              "4                                                0.0                  \n",
              "\n",
              "   ESTU_VALORMATRICULAUNIVERSIDAD_Menos de 500 mil  \\\n",
              "0                                              0.0   \n",
              "1                                              0.0   \n",
              "2                                              0.0   \n",
              "3                                              0.0   \n",
              "4                                              0.0   \n",
              "\n",
              "   ESTU_VALORMATRICULAUNIVERSIDAD_Más de 7 millones  \\\n",
              "0                                               0.0   \n",
              "1                                               0.0   \n",
              "2                                               0.0   \n",
              "3                                               0.0   \n",
              "4                                               0.0   \n",
              "\n",
              "   ESTU_VALORMATRICULAUNIVERSIDAD_No pagó matrícula  \\\n",
              "0                                               0.0   \n",
              "1                                               0.0   \n",
              "2                                               0.0   \n",
              "3                                               0.0   \n",
              "4                                               0.0   \n",
              "\n",
              "   FAMI_EDUCACIONPADRE_ORDINAL  FAMI_EDUCACIONMADRE_ORDINAL  \n",
              "0                          7.0                         11.0  \n",
              "1                          8.0                          7.0  \n",
              "2                          6.0                          6.0  \n",
              "3                          1.0                          6.0  \n",
              "4                          4.0                          4.0  \n",
              "\n",
              "[5 rows x 1001 columns]"
            ],
            "text/html": [
              "\n",
              "  <div id=\"df-3906fe2b-a5a5-4208-b350-6e2613b55585\" class=\"colab-df-container\">\n",
              "    <div>\n",
              "<style scoped>\n",
              "    .dataframe tbody tr th:only-of-type {\n",
              "        vertical-align: middle;\n",
              "    }\n",
              "\n",
              "    .dataframe tbody tr th {\n",
              "        vertical-align: top;\n",
              "    }\n",
              "\n",
              "    .dataframe thead th {\n",
              "        text-align: right;\n",
              "    }\n",
              "</style>\n",
              "<table border=\"1\" class=\"dataframe\">\n",
              "  <thead>\n",
              "    <tr style=\"text-align: right;\">\n",
              "      <th></th>\n",
              "      <th>ID</th>\n",
              "      <th>PERIODO</th>\n",
              "      <th>RENDIMIENTO_GLOBAL</th>\n",
              "      <th>ESTU_PRGM_ACADEMICO_ACTIVIDAD FISICA Y DEPORTE</th>\n",
              "      <th>ESTU_PRGM_ACADEMICO_ACUICULTURA</th>\n",
              "      <th>ESTU_PRGM_ACADEMICO_ADMINISTRACION</th>\n",
              "      <th>ESTU_PRGM_ACADEMICO_ADMINISTRACION  FINANCIERA</th>\n",
              "      <th>ESTU_PRGM_ACADEMICO_ADMINISTRACION &amp; SERVICIO</th>\n",
              "      <th>ESTU_PRGM_ACADEMICO_ADMINISTRACION AERONAUTICA</th>\n",
              "      <th>ESTU_PRGM_ACADEMICO_ADMINISTRACION AGROPECUARIA</th>\n",
              "      <th>...</th>\n",
              "      <th>ESTU_PAGOMATRICULAPROPIO_Si</th>\n",
              "      <th>ESTU_VALORMATRICULAUNIVERSIDAD_Entre 2.5 millones y menos de 4 millones</th>\n",
              "      <th>ESTU_VALORMATRICULAUNIVERSIDAD_Entre 4 millones y menos de 5.5 millones</th>\n",
              "      <th>ESTU_VALORMATRICULAUNIVERSIDAD_Entre 5.5 millones y menos de 7 millones</th>\n",
              "      <th>ESTU_VALORMATRICULAUNIVERSIDAD_Entre 500 mil y menos de 1 millón</th>\n",
              "      <th>ESTU_VALORMATRICULAUNIVERSIDAD_Menos de 500 mil</th>\n",
              "      <th>ESTU_VALORMATRICULAUNIVERSIDAD_Más de 7 millones</th>\n",
              "      <th>ESTU_VALORMATRICULAUNIVERSIDAD_No pagó matrícula</th>\n",
              "      <th>FAMI_EDUCACIONPADRE_ORDINAL</th>\n",
              "      <th>FAMI_EDUCACIONMADRE_ORDINAL</th>\n",
              "    </tr>\n",
              "  </thead>\n",
              "  <tbody>\n",
              "    <tr>\n",
              "      <th>0</th>\n",
              "      <td>904256.0</td>\n",
              "      <td>20212.0</td>\n",
              "      <td>medio-alto</td>\n",
              "      <td>0.0</td>\n",
              "      <td>0.0</td>\n",
              "      <td>0.0</td>\n",
              "      <td>0.0</td>\n",
              "      <td>0.0</td>\n",
              "      <td>0.0</td>\n",
              "      <td>0.0</td>\n",
              "      <td>...</td>\n",
              "      <td>0.0</td>\n",
              "      <td>0.0</td>\n",
              "      <td>0.0</td>\n",
              "      <td>1.0</td>\n",
              "      <td>0.0</td>\n",
              "      <td>0.0</td>\n",
              "      <td>0.0</td>\n",
              "      <td>0.0</td>\n",
              "      <td>7.0</td>\n",
              "      <td>11.0</td>\n",
              "    </tr>\n",
              "    <tr>\n",
              "      <th>1</th>\n",
              "      <td>645256.0</td>\n",
              "      <td>20212.0</td>\n",
              "      <td>bajo</td>\n",
              "      <td>0.0</td>\n",
              "      <td>0.0</td>\n",
              "      <td>0.0</td>\n",
              "      <td>0.0</td>\n",
              "      <td>0.0</td>\n",
              "      <td>0.0</td>\n",
              "      <td>0.0</td>\n",
              "      <td>...</td>\n",
              "      <td>0.0</td>\n",
              "      <td>1.0</td>\n",
              "      <td>0.0</td>\n",
              "      <td>0.0</td>\n",
              "      <td>0.0</td>\n",
              "      <td>0.0</td>\n",
              "      <td>0.0</td>\n",
              "      <td>0.0</td>\n",
              "      <td>8.0</td>\n",
              "      <td>7.0</td>\n",
              "    </tr>\n",
              "    <tr>\n",
              "      <th>2</th>\n",
              "      <td>308367.0</td>\n",
              "      <td>20203.0</td>\n",
              "      <td>bajo</td>\n",
              "      <td>0.0</td>\n",
              "      <td>0.0</td>\n",
              "      <td>0.0</td>\n",
              "      <td>0.0</td>\n",
              "      <td>0.0</td>\n",
              "      <td>0.0</td>\n",
              "      <td>0.0</td>\n",
              "      <td>...</td>\n",
              "      <td>0.0</td>\n",
              "      <td>1.0</td>\n",
              "      <td>0.0</td>\n",
              "      <td>0.0</td>\n",
              "      <td>0.0</td>\n",
              "      <td>0.0</td>\n",
              "      <td>0.0</td>\n",
              "      <td>0.0</td>\n",
              "      <td>6.0</td>\n",
              "      <td>6.0</td>\n",
              "    </tr>\n",
              "    <tr>\n",
              "      <th>3</th>\n",
              "      <td>470353.0</td>\n",
              "      <td>20195.0</td>\n",
              "      <td>alto</td>\n",
              "      <td>0.0</td>\n",
              "      <td>0.0</td>\n",
              "      <td>0.0</td>\n",
              "      <td>0.0</td>\n",
              "      <td>0.0</td>\n",
              "      <td>0.0</td>\n",
              "      <td>0.0</td>\n",
              "      <td>...</td>\n",
              "      <td>0.0</td>\n",
              "      <td>0.0</td>\n",
              "      <td>1.0</td>\n",
              "      <td>0.0</td>\n",
              "      <td>0.0</td>\n",
              "      <td>0.0</td>\n",
              "      <td>0.0</td>\n",
              "      <td>0.0</td>\n",
              "      <td>1.0</td>\n",
              "      <td>6.0</td>\n",
              "    </tr>\n",
              "    <tr>\n",
              "      <th>4</th>\n",
              "      <td>989032.0</td>\n",
              "      <td>20212.0</td>\n",
              "      <td>medio-bajo</td>\n",
              "      <td>0.0</td>\n",
              "      <td>0.0</td>\n",
              "      <td>0.0</td>\n",
              "      <td>0.0</td>\n",
              "      <td>0.0</td>\n",
              "      <td>0.0</td>\n",
              "      <td>0.0</td>\n",
              "      <td>...</td>\n",
              "      <td>0.0</td>\n",
              "      <td>1.0</td>\n",
              "      <td>0.0</td>\n",
              "      <td>0.0</td>\n",
              "      <td>0.0</td>\n",
              "      <td>0.0</td>\n",
              "      <td>0.0</td>\n",
              "      <td>0.0</td>\n",
              "      <td>4.0</td>\n",
              "      <td>4.0</td>\n",
              "    </tr>\n",
              "  </tbody>\n",
              "</table>\n",
              "<p>5 rows × 1001 columns</p>\n",
              "</div>\n",
              "    <div class=\"colab-df-buttons\">\n",
              "\n",
              "  <div class=\"colab-df-container\">\n",
              "    <button class=\"colab-df-convert\" onclick=\"convertToInteractive('df-3906fe2b-a5a5-4208-b350-6e2613b55585')\"\n",
              "            title=\"Convert this dataframe to an interactive table.\"\n",
              "            style=\"display:none;\">\n",
              "\n",
              "  <svg xmlns=\"http://www.w3.org/2000/svg\" height=\"24px\" viewBox=\"0 -960 960 960\">\n",
              "    <path d=\"M120-120v-720h720v720H120Zm60-500h600v-160H180v160Zm220 220h160v-160H400v160Zm0 220h160v-160H400v160ZM180-400h160v-160H180v160Zm440 0h160v-160H620v160ZM180-180h160v-160H180v160Zm440 0h160v-160H620v160Z\"/>\n",
              "  </svg>\n",
              "    </button>\n",
              "\n",
              "  <style>\n",
              "    .colab-df-container {\n",
              "      display:flex;\n",
              "      gap: 12px;\n",
              "    }\n",
              "\n",
              "    .colab-df-convert {\n",
              "      background-color: #E8F0FE;\n",
              "      border: none;\n",
              "      border-radius: 50%;\n",
              "      cursor: pointer;\n",
              "      display: none;\n",
              "      fill: #1967D2;\n",
              "      height: 32px;\n",
              "      padding: 0 0 0 0;\n",
              "      width: 32px;\n",
              "    }\n",
              "\n",
              "    .colab-df-convert:hover {\n",
              "      background-color: #E2EBFA;\n",
              "      box-shadow: 0px 1px 2px rgba(60, 64, 67, 0.3), 0px 1px 3px 1px rgba(60, 64, 67, 0.15);\n",
              "      fill: #174EA6;\n",
              "    }\n",
              "\n",
              "    .colab-df-buttons div {\n",
              "      margin-bottom: 4px;\n",
              "    }\n",
              "\n",
              "    [theme=dark] .colab-df-convert {\n",
              "      background-color: #3B4455;\n",
              "      fill: #D2E3FC;\n",
              "    }\n",
              "\n",
              "    [theme=dark] .colab-df-convert:hover {\n",
              "      background-color: #434B5C;\n",
              "      box-shadow: 0px 1px 3px 1px rgba(0, 0, 0, 0.15);\n",
              "      filter: drop-shadow(0px 1px 2px rgba(0, 0, 0, 0.3));\n",
              "      fill: #FFFFFF;\n",
              "    }\n",
              "  </style>\n",
              "\n",
              "    <script>\n",
              "      const buttonEl =\n",
              "        document.querySelector('#df-3906fe2b-a5a5-4208-b350-6e2613b55585 button.colab-df-convert');\n",
              "      buttonEl.style.display =\n",
              "        google.colab.kernel.accessAllowed ? 'block' : 'none';\n",
              "\n",
              "      async function convertToInteractive(key) {\n",
              "        const element = document.querySelector('#df-3906fe2b-a5a5-4208-b350-6e2613b55585');\n",
              "        const dataTable =\n",
              "          await google.colab.kernel.invokeFunction('convertToInteractive',\n",
              "                                                    [key], {});\n",
              "        if (!dataTable) return;\n",
              "\n",
              "        const docLinkHtml = 'Like what you see? Visit the ' +\n",
              "          '<a target=\"_blank\" href=https://colab.research.google.com/notebooks/data_table.ipynb>data table notebook</a>'\n",
              "          + ' to learn more about interactive tables.';\n",
              "        element.innerHTML = '';\n",
              "        dataTable['output_type'] = 'display_data';\n",
              "        await google.colab.output.renderOutput(dataTable, element);\n",
              "        const docLink = document.createElement('div');\n",
              "        docLink.innerHTML = docLinkHtml;\n",
              "        element.appendChild(docLink);\n",
              "      }\n",
              "    </script>\n",
              "  </div>\n",
              "\n",
              "\n",
              "<div id=\"df-c5c3bd62-e17a-40e3-94ff-6eb733477c2c\">\n",
              "  <button class=\"colab-df-quickchart\" onclick=\"quickchart('df-c5c3bd62-e17a-40e3-94ff-6eb733477c2c')\"\n",
              "            title=\"Suggest charts\"\n",
              "            style=\"display:none;\">\n",
              "\n",
              "<svg xmlns=\"http://www.w3.org/2000/svg\" height=\"24px\"viewBox=\"0 0 24 24\"\n",
              "     width=\"24px\">\n",
              "    <g>\n",
              "        <path d=\"M19 3H5c-1.1 0-2 .9-2 2v14c0 1.1.9 2 2 2h14c1.1 0 2-.9 2-2V5c0-1.1-.9-2-2-2zM9 17H7v-7h2v7zm4 0h-2V7h2v10zm4 0h-2v-4h2v4z\"/>\n",
              "    </g>\n",
              "</svg>\n",
              "  </button>\n",
              "\n",
              "<style>\n",
              "  .colab-df-quickchart {\n",
              "      --bg-color: #E8F0FE;\n",
              "      --fill-color: #1967D2;\n",
              "      --hover-bg-color: #E2EBFA;\n",
              "      --hover-fill-color: #174EA6;\n",
              "      --disabled-fill-color: #AAA;\n",
              "      --disabled-bg-color: #DDD;\n",
              "  }\n",
              "\n",
              "  [theme=dark] .colab-df-quickchart {\n",
              "      --bg-color: #3B4455;\n",
              "      --fill-color: #D2E3FC;\n",
              "      --hover-bg-color: #434B5C;\n",
              "      --hover-fill-color: #FFFFFF;\n",
              "      --disabled-bg-color: #3B4455;\n",
              "      --disabled-fill-color: #666;\n",
              "  }\n",
              "\n",
              "  .colab-df-quickchart {\n",
              "    background-color: var(--bg-color);\n",
              "    border: none;\n",
              "    border-radius: 50%;\n",
              "    cursor: pointer;\n",
              "    display: none;\n",
              "    fill: var(--fill-color);\n",
              "    height: 32px;\n",
              "    padding: 0;\n",
              "    width: 32px;\n",
              "  }\n",
              "\n",
              "  .colab-df-quickchart:hover {\n",
              "    background-color: var(--hover-bg-color);\n",
              "    box-shadow: 0 1px 2px rgba(60, 64, 67, 0.3), 0 1px 3px 1px rgba(60, 64, 67, 0.15);\n",
              "    fill: var(--button-hover-fill-color);\n",
              "  }\n",
              "\n",
              "  .colab-df-quickchart-complete:disabled,\n",
              "  .colab-df-quickchart-complete:disabled:hover {\n",
              "    background-color: var(--disabled-bg-color);\n",
              "    fill: var(--disabled-fill-color);\n",
              "    box-shadow: none;\n",
              "  }\n",
              "\n",
              "  .colab-df-spinner {\n",
              "    border: 2px solid var(--fill-color);\n",
              "    border-color: transparent;\n",
              "    border-bottom-color: var(--fill-color);\n",
              "    animation:\n",
              "      spin 1s steps(1) infinite;\n",
              "  }\n",
              "\n",
              "  @keyframes spin {\n",
              "    0% {\n",
              "      border-color: transparent;\n",
              "      border-bottom-color: var(--fill-color);\n",
              "      border-left-color: var(--fill-color);\n",
              "    }\n",
              "    20% {\n",
              "      border-color: transparent;\n",
              "      border-left-color: var(--fill-color);\n",
              "      border-top-color: var(--fill-color);\n",
              "    }\n",
              "    30% {\n",
              "      border-color: transparent;\n",
              "      border-left-color: var(--fill-color);\n",
              "      border-top-color: var(--fill-color);\n",
              "      border-right-color: var(--fill-color);\n",
              "    }\n",
              "    40% {\n",
              "      border-color: transparent;\n",
              "      border-right-color: var(--fill-color);\n",
              "      border-top-color: var(--fill-color);\n",
              "    }\n",
              "    60% {\n",
              "      border-color: transparent;\n",
              "      border-right-color: var(--fill-color);\n",
              "    }\n",
              "    80% {\n",
              "      border-color: transparent;\n",
              "      border-right-color: var(--fill-color);\n",
              "      border-bottom-color: var(--fill-color);\n",
              "    }\n",
              "    90% {\n",
              "      border-color: transparent;\n",
              "      border-bottom-color: var(--fill-color);\n",
              "    }\n",
              "  }\n",
              "</style>\n",
              "\n",
              "  <script>\n",
              "    async function quickchart(key) {\n",
              "      const quickchartButtonEl =\n",
              "        document.querySelector('#' + key + ' button');\n",
              "      quickchartButtonEl.disabled = true;  // To prevent multiple clicks.\n",
              "      quickchartButtonEl.classList.add('colab-df-spinner');\n",
              "      try {\n",
              "        const charts = await google.colab.kernel.invokeFunction(\n",
              "            'suggestCharts', [key], {});\n",
              "      } catch (error) {\n",
              "        console.error('Error during call to suggestCharts:', error);\n",
              "      }\n",
              "      quickchartButtonEl.classList.remove('colab-df-spinner');\n",
              "      quickchartButtonEl.classList.add('colab-df-quickchart-complete');\n",
              "    }\n",
              "    (() => {\n",
              "      let quickchartButtonEl =\n",
              "        document.querySelector('#df-c5c3bd62-e17a-40e3-94ff-6eb733477c2c button');\n",
              "      quickchartButtonEl.style.display =\n",
              "        google.colab.kernel.accessAllowed ? 'block' : 'none';\n",
              "    })();\n",
              "  </script>\n",
              "</div>\n",
              "\n",
              "    </div>\n",
              "  </div>\n"
            ],
            "application/vnd.google.colaboratory.intrinsic+json": {
              "type": "dataframe"
            }
          },
          "metadata": {}
        },
        {
          "output_type": "display_data",
          "data": {
            "text/plain": [
              "None"
            ]
          },
          "metadata": {}
        }
      ],
      "source": [
        "df.isnull().sum()\n",
        "# Muestra las primeras filas del DataFrame\n",
        "from IPython.display import display\n",
        "\n",
        "display(df.head(),df.info())"
      ]
    },
    {
      "cell_type": "code",
      "source": [
        "df['FAMI_EDUCACIONMADRE_ORDINAL'].unique()"
      ],
      "metadata": {
        "colab": {
          "base_uri": "https://localhost:8080/"
        },
        "id": "uUf9saekLtsf",
        "outputId": "bb5eabef-5ca0-493e-b9eb-de8c74df8711"
      },
      "execution_count": null,
      "outputs": [
        {
          "output_type": "execute_result",
          "data": {
            "text/plain": [
              "array([11.,  7.,  6.,  4.,  8.,  5.,  9., 10.,  3.,  0.,  2.,  1.])"
            ]
          },
          "metadata": {},
          "execution_count": 108
        }
      ]
    },
    {
      "cell_type": "code",
      "execution_count": null,
      "metadata": {
        "id": "HLgFapL_U817"
      },
      "outputs": [],
      "source": [
        "# Codificación ordinal para 'RENDIMIENTO_GLOBAL'\n",
        "rendimiento_mapping = {'bajo': 0, 'medio-bajo': 1, 'medio-alto': 2, 'alto': 3}\n",
        "df['RENDIMIENTO_GLOBAL'] = df['RENDIMIENTO_GLOBAL'].map(rendimiento_mapping)"
      ]
    },
    {
      "cell_type": "code",
      "source": [
        "df.isnull().sum()\n",
        "# Muestra las primeras filas del DataFrame\n",
        "from IPython.display import display\n",
        "\n",
        "display(df.head(),df.info())"
      ],
      "metadata": {
        "id": "3Awzn0yae1eF",
        "colab": {
          "base_uri": "https://localhost:8080/",
          "height": 377
        },
        "outputId": "8a58d297-380c-4d73-f9fa-8468f735550b"
      },
      "execution_count": null,
      "outputs": [
        {
          "output_type": "stream",
          "name": "stdout",
          "text": [
            "<class 'pandas.core.frame.DataFrame'>\n",
            "RangeIndex: 692500 entries, 0 to 692499\n",
            "Columns: 1001 entries, ID to FAMI_EDUCACIONMADRE_ORDINAL\n",
            "dtypes: float64(1000), int64(1)\n",
            "memory usage: 5.2 GB\n"
          ]
        },
        {
          "output_type": "display_data",
          "data": {
            "text/plain": [
              "         ID  PERIODO  RENDIMIENTO_GLOBAL  \\\n",
              "0  904256.0  20212.0                   2   \n",
              "1  645256.0  20212.0                   0   \n",
              "2  308367.0  20203.0                   0   \n",
              "3  470353.0  20195.0                   3   \n",
              "4  989032.0  20212.0                   1   \n",
              "\n",
              "   ESTU_PRGM_ACADEMICO_ACTIVIDAD FISICA Y DEPORTE  \\\n",
              "0                                             0.0   \n",
              "1                                             0.0   \n",
              "2                                             0.0   \n",
              "3                                             0.0   \n",
              "4                                             0.0   \n",
              "\n",
              "   ESTU_PRGM_ACADEMICO_ACUICULTURA  ESTU_PRGM_ACADEMICO_ADMINISTRACION  \\\n",
              "0                              0.0                                 0.0   \n",
              "1                              0.0                                 0.0   \n",
              "2                              0.0                                 0.0   \n",
              "3                              0.0                                 0.0   \n",
              "4                              0.0                                 0.0   \n",
              "\n",
              "   ESTU_PRGM_ACADEMICO_ADMINISTRACION  FINANCIERA  \\\n",
              "0                                             0.0   \n",
              "1                                             0.0   \n",
              "2                                             0.0   \n",
              "3                                             0.0   \n",
              "4                                             0.0   \n",
              "\n",
              "   ESTU_PRGM_ACADEMICO_ADMINISTRACION & SERVICIO  \\\n",
              "0                                            0.0   \n",
              "1                                            0.0   \n",
              "2                                            0.0   \n",
              "3                                            0.0   \n",
              "4                                            0.0   \n",
              "\n",
              "   ESTU_PRGM_ACADEMICO_ADMINISTRACION AERONAUTICA  \\\n",
              "0                                             0.0   \n",
              "1                                             0.0   \n",
              "2                                             0.0   \n",
              "3                                             0.0   \n",
              "4                                             0.0   \n",
              "\n",
              "   ESTU_PRGM_ACADEMICO_ADMINISTRACION AGROPECUARIA  ...  \\\n",
              "0                                              0.0  ...   \n",
              "1                                              0.0  ...   \n",
              "2                                              0.0  ...   \n",
              "3                                              0.0  ...   \n",
              "4                                              0.0  ...   \n",
              "\n",
              "   ESTU_PAGOMATRICULAPROPIO_Si  \\\n",
              "0                          0.0   \n",
              "1                          0.0   \n",
              "2                          0.0   \n",
              "3                          0.0   \n",
              "4                          0.0   \n",
              "\n",
              "   ESTU_VALORMATRICULAUNIVERSIDAD_Entre 2.5 millones y menos de 4 millones  \\\n",
              "0                                                0.0                         \n",
              "1                                                1.0                         \n",
              "2                                                1.0                         \n",
              "3                                                0.0                         \n",
              "4                                                1.0                         \n",
              "\n",
              "   ESTU_VALORMATRICULAUNIVERSIDAD_Entre 4 millones y menos de 5.5 millones  \\\n",
              "0                                                0.0                         \n",
              "1                                                0.0                         \n",
              "2                                                0.0                         \n",
              "3                                                1.0                         \n",
              "4                                                0.0                         \n",
              "\n",
              "   ESTU_VALORMATRICULAUNIVERSIDAD_Entre 5.5 millones y menos de 7 millones  \\\n",
              "0                                                1.0                         \n",
              "1                                                0.0                         \n",
              "2                                                0.0                         \n",
              "3                                                0.0                         \n",
              "4                                                0.0                         \n",
              "\n",
              "   ESTU_VALORMATRICULAUNIVERSIDAD_Entre 500 mil y menos de 1 millón  \\\n",
              "0                                                0.0                  \n",
              "1                                                0.0                  \n",
              "2                                                0.0                  \n",
              "3                                                0.0                  \n",
              "4                                                0.0                  \n",
              "\n",
              "   ESTU_VALORMATRICULAUNIVERSIDAD_Menos de 500 mil  \\\n",
              "0                                              0.0   \n",
              "1                                              0.0   \n",
              "2                                              0.0   \n",
              "3                                              0.0   \n",
              "4                                              0.0   \n",
              "\n",
              "   ESTU_VALORMATRICULAUNIVERSIDAD_Más de 7 millones  \\\n",
              "0                                               0.0   \n",
              "1                                               0.0   \n",
              "2                                               0.0   \n",
              "3                                               0.0   \n",
              "4                                               0.0   \n",
              "\n",
              "   ESTU_VALORMATRICULAUNIVERSIDAD_No pagó matrícula  \\\n",
              "0                                               0.0   \n",
              "1                                               0.0   \n",
              "2                                               0.0   \n",
              "3                                               0.0   \n",
              "4                                               0.0   \n",
              "\n",
              "   FAMI_EDUCACIONPADRE_ORDINAL  FAMI_EDUCACIONMADRE_ORDINAL  \n",
              "0                          7.0                         11.0  \n",
              "1                          8.0                          7.0  \n",
              "2                          6.0                          6.0  \n",
              "3                          1.0                          6.0  \n",
              "4                          4.0                          4.0  \n",
              "\n",
              "[5 rows x 1001 columns]"
            ],
            "text/html": [
              "\n",
              "  <div id=\"df-5e2c704c-f661-4fe8-8911-3ed98dadf479\" class=\"colab-df-container\">\n",
              "    <div>\n",
              "<style scoped>\n",
              "    .dataframe tbody tr th:only-of-type {\n",
              "        vertical-align: middle;\n",
              "    }\n",
              "\n",
              "    .dataframe tbody tr th {\n",
              "        vertical-align: top;\n",
              "    }\n",
              "\n",
              "    .dataframe thead th {\n",
              "        text-align: right;\n",
              "    }\n",
              "</style>\n",
              "<table border=\"1\" class=\"dataframe\">\n",
              "  <thead>\n",
              "    <tr style=\"text-align: right;\">\n",
              "      <th></th>\n",
              "      <th>ID</th>\n",
              "      <th>PERIODO</th>\n",
              "      <th>RENDIMIENTO_GLOBAL</th>\n",
              "      <th>ESTU_PRGM_ACADEMICO_ACTIVIDAD FISICA Y DEPORTE</th>\n",
              "      <th>ESTU_PRGM_ACADEMICO_ACUICULTURA</th>\n",
              "      <th>ESTU_PRGM_ACADEMICO_ADMINISTRACION</th>\n",
              "      <th>ESTU_PRGM_ACADEMICO_ADMINISTRACION  FINANCIERA</th>\n",
              "      <th>ESTU_PRGM_ACADEMICO_ADMINISTRACION &amp; SERVICIO</th>\n",
              "      <th>ESTU_PRGM_ACADEMICO_ADMINISTRACION AERONAUTICA</th>\n",
              "      <th>ESTU_PRGM_ACADEMICO_ADMINISTRACION AGROPECUARIA</th>\n",
              "      <th>...</th>\n",
              "      <th>ESTU_PAGOMATRICULAPROPIO_Si</th>\n",
              "      <th>ESTU_VALORMATRICULAUNIVERSIDAD_Entre 2.5 millones y menos de 4 millones</th>\n",
              "      <th>ESTU_VALORMATRICULAUNIVERSIDAD_Entre 4 millones y menos de 5.5 millones</th>\n",
              "      <th>ESTU_VALORMATRICULAUNIVERSIDAD_Entre 5.5 millones y menos de 7 millones</th>\n",
              "      <th>ESTU_VALORMATRICULAUNIVERSIDAD_Entre 500 mil y menos de 1 millón</th>\n",
              "      <th>ESTU_VALORMATRICULAUNIVERSIDAD_Menos de 500 mil</th>\n",
              "      <th>ESTU_VALORMATRICULAUNIVERSIDAD_Más de 7 millones</th>\n",
              "      <th>ESTU_VALORMATRICULAUNIVERSIDAD_No pagó matrícula</th>\n",
              "      <th>FAMI_EDUCACIONPADRE_ORDINAL</th>\n",
              "      <th>FAMI_EDUCACIONMADRE_ORDINAL</th>\n",
              "    </tr>\n",
              "  </thead>\n",
              "  <tbody>\n",
              "    <tr>\n",
              "      <th>0</th>\n",
              "      <td>904256.0</td>\n",
              "      <td>20212.0</td>\n",
              "      <td>2</td>\n",
              "      <td>0.0</td>\n",
              "      <td>0.0</td>\n",
              "      <td>0.0</td>\n",
              "      <td>0.0</td>\n",
              "      <td>0.0</td>\n",
              "      <td>0.0</td>\n",
              "      <td>0.0</td>\n",
              "      <td>...</td>\n",
              "      <td>0.0</td>\n",
              "      <td>0.0</td>\n",
              "      <td>0.0</td>\n",
              "      <td>1.0</td>\n",
              "      <td>0.0</td>\n",
              "      <td>0.0</td>\n",
              "      <td>0.0</td>\n",
              "      <td>0.0</td>\n",
              "      <td>7.0</td>\n",
              "      <td>11.0</td>\n",
              "    </tr>\n",
              "    <tr>\n",
              "      <th>1</th>\n",
              "      <td>645256.0</td>\n",
              "      <td>20212.0</td>\n",
              "      <td>0</td>\n",
              "      <td>0.0</td>\n",
              "      <td>0.0</td>\n",
              "      <td>0.0</td>\n",
              "      <td>0.0</td>\n",
              "      <td>0.0</td>\n",
              "      <td>0.0</td>\n",
              "      <td>0.0</td>\n",
              "      <td>...</td>\n",
              "      <td>0.0</td>\n",
              "      <td>1.0</td>\n",
              "      <td>0.0</td>\n",
              "      <td>0.0</td>\n",
              "      <td>0.0</td>\n",
              "      <td>0.0</td>\n",
              "      <td>0.0</td>\n",
              "      <td>0.0</td>\n",
              "      <td>8.0</td>\n",
              "      <td>7.0</td>\n",
              "    </tr>\n",
              "    <tr>\n",
              "      <th>2</th>\n",
              "      <td>308367.0</td>\n",
              "      <td>20203.0</td>\n",
              "      <td>0</td>\n",
              "      <td>0.0</td>\n",
              "      <td>0.0</td>\n",
              "      <td>0.0</td>\n",
              "      <td>0.0</td>\n",
              "      <td>0.0</td>\n",
              "      <td>0.0</td>\n",
              "      <td>0.0</td>\n",
              "      <td>...</td>\n",
              "      <td>0.0</td>\n",
              "      <td>1.0</td>\n",
              "      <td>0.0</td>\n",
              "      <td>0.0</td>\n",
              "      <td>0.0</td>\n",
              "      <td>0.0</td>\n",
              "      <td>0.0</td>\n",
              "      <td>0.0</td>\n",
              "      <td>6.0</td>\n",
              "      <td>6.0</td>\n",
              "    </tr>\n",
              "    <tr>\n",
              "      <th>3</th>\n",
              "      <td>470353.0</td>\n",
              "      <td>20195.0</td>\n",
              "      <td>3</td>\n",
              "      <td>0.0</td>\n",
              "      <td>0.0</td>\n",
              "      <td>0.0</td>\n",
              "      <td>0.0</td>\n",
              "      <td>0.0</td>\n",
              "      <td>0.0</td>\n",
              "      <td>0.0</td>\n",
              "      <td>...</td>\n",
              "      <td>0.0</td>\n",
              "      <td>0.0</td>\n",
              "      <td>1.0</td>\n",
              "      <td>0.0</td>\n",
              "      <td>0.0</td>\n",
              "      <td>0.0</td>\n",
              "      <td>0.0</td>\n",
              "      <td>0.0</td>\n",
              "      <td>1.0</td>\n",
              "      <td>6.0</td>\n",
              "    </tr>\n",
              "    <tr>\n",
              "      <th>4</th>\n",
              "      <td>989032.0</td>\n",
              "      <td>20212.0</td>\n",
              "      <td>1</td>\n",
              "      <td>0.0</td>\n",
              "      <td>0.0</td>\n",
              "      <td>0.0</td>\n",
              "      <td>0.0</td>\n",
              "      <td>0.0</td>\n",
              "      <td>0.0</td>\n",
              "      <td>0.0</td>\n",
              "      <td>...</td>\n",
              "      <td>0.0</td>\n",
              "      <td>1.0</td>\n",
              "      <td>0.0</td>\n",
              "      <td>0.0</td>\n",
              "      <td>0.0</td>\n",
              "      <td>0.0</td>\n",
              "      <td>0.0</td>\n",
              "      <td>0.0</td>\n",
              "      <td>4.0</td>\n",
              "      <td>4.0</td>\n",
              "    </tr>\n",
              "  </tbody>\n",
              "</table>\n",
              "<p>5 rows × 1001 columns</p>\n",
              "</div>\n",
              "    <div class=\"colab-df-buttons\">\n",
              "\n",
              "  <div class=\"colab-df-container\">\n",
              "    <button class=\"colab-df-convert\" onclick=\"convertToInteractive('df-5e2c704c-f661-4fe8-8911-3ed98dadf479')\"\n",
              "            title=\"Convert this dataframe to an interactive table.\"\n",
              "            style=\"display:none;\">\n",
              "\n",
              "  <svg xmlns=\"http://www.w3.org/2000/svg\" height=\"24px\" viewBox=\"0 -960 960 960\">\n",
              "    <path d=\"M120-120v-720h720v720H120Zm60-500h600v-160H180v160Zm220 220h160v-160H400v160Zm0 220h160v-160H400v160ZM180-400h160v-160H180v160Zm440 0h160v-160H620v160ZM180-180h160v-160H180v160Zm440 0h160v-160H620v160Z\"/>\n",
              "  </svg>\n",
              "    </button>\n",
              "\n",
              "  <style>\n",
              "    .colab-df-container {\n",
              "      display:flex;\n",
              "      gap: 12px;\n",
              "    }\n",
              "\n",
              "    .colab-df-convert {\n",
              "      background-color: #E8F0FE;\n",
              "      border: none;\n",
              "      border-radius: 50%;\n",
              "      cursor: pointer;\n",
              "      display: none;\n",
              "      fill: #1967D2;\n",
              "      height: 32px;\n",
              "      padding: 0 0 0 0;\n",
              "      width: 32px;\n",
              "    }\n",
              "\n",
              "    .colab-df-convert:hover {\n",
              "      background-color: #E2EBFA;\n",
              "      box-shadow: 0px 1px 2px rgba(60, 64, 67, 0.3), 0px 1px 3px 1px rgba(60, 64, 67, 0.15);\n",
              "      fill: #174EA6;\n",
              "    }\n",
              "\n",
              "    .colab-df-buttons div {\n",
              "      margin-bottom: 4px;\n",
              "    }\n",
              "\n",
              "    [theme=dark] .colab-df-convert {\n",
              "      background-color: #3B4455;\n",
              "      fill: #D2E3FC;\n",
              "    }\n",
              "\n",
              "    [theme=dark] .colab-df-convert:hover {\n",
              "      background-color: #434B5C;\n",
              "      box-shadow: 0px 1px 3px 1px rgba(0, 0, 0, 0.15);\n",
              "      filter: drop-shadow(0px 1px 2px rgba(0, 0, 0, 0.3));\n",
              "      fill: #FFFFFF;\n",
              "    }\n",
              "  </style>\n",
              "\n",
              "    <script>\n",
              "      const buttonEl =\n",
              "        document.querySelector('#df-5e2c704c-f661-4fe8-8911-3ed98dadf479 button.colab-df-convert');\n",
              "      buttonEl.style.display =\n",
              "        google.colab.kernel.accessAllowed ? 'block' : 'none';\n",
              "\n",
              "      async function convertToInteractive(key) {\n",
              "        const element = document.querySelector('#df-5e2c704c-f661-4fe8-8911-3ed98dadf479');\n",
              "        const dataTable =\n",
              "          await google.colab.kernel.invokeFunction('convertToInteractive',\n",
              "                                                    [key], {});\n",
              "        if (!dataTable) return;\n",
              "\n",
              "        const docLinkHtml = 'Like what you see? Visit the ' +\n",
              "          '<a target=\"_blank\" href=https://colab.research.google.com/notebooks/data_table.ipynb>data table notebook</a>'\n",
              "          + ' to learn more about interactive tables.';\n",
              "        element.innerHTML = '';\n",
              "        dataTable['output_type'] = 'display_data';\n",
              "        await google.colab.output.renderOutput(dataTable, element);\n",
              "        const docLink = document.createElement('div');\n",
              "        docLink.innerHTML = docLinkHtml;\n",
              "        element.appendChild(docLink);\n",
              "      }\n",
              "    </script>\n",
              "  </div>\n",
              "\n",
              "\n",
              "<div id=\"df-27476122-5aae-4088-b1fb-2da316e59c3e\">\n",
              "  <button class=\"colab-df-quickchart\" onclick=\"quickchart('df-27476122-5aae-4088-b1fb-2da316e59c3e')\"\n",
              "            title=\"Suggest charts\"\n",
              "            style=\"display:none;\">\n",
              "\n",
              "<svg xmlns=\"http://www.w3.org/2000/svg\" height=\"24px\"viewBox=\"0 0 24 24\"\n",
              "     width=\"24px\">\n",
              "    <g>\n",
              "        <path d=\"M19 3H5c-1.1 0-2 .9-2 2v14c0 1.1.9 2 2 2h14c1.1 0 2-.9 2-2V5c0-1.1-.9-2-2-2zM9 17H7v-7h2v7zm4 0h-2V7h2v10zm4 0h-2v-4h2v4z\"/>\n",
              "    </g>\n",
              "</svg>\n",
              "  </button>\n",
              "\n",
              "<style>\n",
              "  .colab-df-quickchart {\n",
              "      --bg-color: #E8F0FE;\n",
              "      --fill-color: #1967D2;\n",
              "      --hover-bg-color: #E2EBFA;\n",
              "      --hover-fill-color: #174EA6;\n",
              "      --disabled-fill-color: #AAA;\n",
              "      --disabled-bg-color: #DDD;\n",
              "  }\n",
              "\n",
              "  [theme=dark] .colab-df-quickchart {\n",
              "      --bg-color: #3B4455;\n",
              "      --fill-color: #D2E3FC;\n",
              "      --hover-bg-color: #434B5C;\n",
              "      --hover-fill-color: #FFFFFF;\n",
              "      --disabled-bg-color: #3B4455;\n",
              "      --disabled-fill-color: #666;\n",
              "  }\n",
              "\n",
              "  .colab-df-quickchart {\n",
              "    background-color: var(--bg-color);\n",
              "    border: none;\n",
              "    border-radius: 50%;\n",
              "    cursor: pointer;\n",
              "    display: none;\n",
              "    fill: var(--fill-color);\n",
              "    height: 32px;\n",
              "    padding: 0;\n",
              "    width: 32px;\n",
              "  }\n",
              "\n",
              "  .colab-df-quickchart:hover {\n",
              "    background-color: var(--hover-bg-color);\n",
              "    box-shadow: 0 1px 2px rgba(60, 64, 67, 0.3), 0 1px 3px 1px rgba(60, 64, 67, 0.15);\n",
              "    fill: var(--button-hover-fill-color);\n",
              "  }\n",
              "\n",
              "  .colab-df-quickchart-complete:disabled,\n",
              "  .colab-df-quickchart-complete:disabled:hover {\n",
              "    background-color: var(--disabled-bg-color);\n",
              "    fill: var(--disabled-fill-color);\n",
              "    box-shadow: none;\n",
              "  }\n",
              "\n",
              "  .colab-df-spinner {\n",
              "    border: 2px solid var(--fill-color);\n",
              "    border-color: transparent;\n",
              "    border-bottom-color: var(--fill-color);\n",
              "    animation:\n",
              "      spin 1s steps(1) infinite;\n",
              "  }\n",
              "\n",
              "  @keyframes spin {\n",
              "    0% {\n",
              "      border-color: transparent;\n",
              "      border-bottom-color: var(--fill-color);\n",
              "      border-left-color: var(--fill-color);\n",
              "    }\n",
              "    20% {\n",
              "      border-color: transparent;\n",
              "      border-left-color: var(--fill-color);\n",
              "      border-top-color: var(--fill-color);\n",
              "    }\n",
              "    30% {\n",
              "      border-color: transparent;\n",
              "      border-left-color: var(--fill-color);\n",
              "      border-top-color: var(--fill-color);\n",
              "      border-right-color: var(--fill-color);\n",
              "    }\n",
              "    40% {\n",
              "      border-color: transparent;\n",
              "      border-right-color: var(--fill-color);\n",
              "      border-top-color: var(--fill-color);\n",
              "    }\n",
              "    60% {\n",
              "      border-color: transparent;\n",
              "      border-right-color: var(--fill-color);\n",
              "    }\n",
              "    80% {\n",
              "      border-color: transparent;\n",
              "      border-right-color: var(--fill-color);\n",
              "      border-bottom-color: var(--fill-color);\n",
              "    }\n",
              "    90% {\n",
              "      border-color: transparent;\n",
              "      border-bottom-color: var(--fill-color);\n",
              "    }\n",
              "  }\n",
              "</style>\n",
              "\n",
              "  <script>\n",
              "    async function quickchart(key) {\n",
              "      const quickchartButtonEl =\n",
              "        document.querySelector('#' + key + ' button');\n",
              "      quickchartButtonEl.disabled = true;  // To prevent multiple clicks.\n",
              "      quickchartButtonEl.classList.add('colab-df-spinner');\n",
              "      try {\n",
              "        const charts = await google.colab.kernel.invokeFunction(\n",
              "            'suggestCharts', [key], {});\n",
              "      } catch (error) {\n",
              "        console.error('Error during call to suggestCharts:', error);\n",
              "      }\n",
              "      quickchartButtonEl.classList.remove('colab-df-spinner');\n",
              "      quickchartButtonEl.classList.add('colab-df-quickchart-complete');\n",
              "    }\n",
              "    (() => {\n",
              "      let quickchartButtonEl =\n",
              "        document.querySelector('#df-27476122-5aae-4088-b1fb-2da316e59c3e button');\n",
              "      quickchartButtonEl.style.display =\n",
              "        google.colab.kernel.accessAllowed ? 'block' : 'none';\n",
              "    })();\n",
              "  </script>\n",
              "</div>\n",
              "\n",
              "    </div>\n",
              "  </div>\n"
            ],
            "application/vnd.google.colaboratory.intrinsic+json": {
              "type": "dataframe"
            }
          },
          "metadata": {}
        },
        {
          "output_type": "display_data",
          "data": {
            "text/plain": [
              "None"
            ]
          },
          "metadata": {}
        }
      ]
    },
    {
      "cell_type": "code",
      "execution_count": null,
      "metadata": {
        "colab": {
          "base_uri": "https://localhost:8080/",
          "height": 458
        },
        "id": "F66iHH67U_7r",
        "outputId": "83e7163c-4cdf-414c-f4df-b2a2b39aff63"
      },
      "outputs": [
        {
          "output_type": "execute_result",
          "data": {
            "text/plain": [
              "ID                                                  0\n",
              "PERIODO                                             0\n",
              "RENDIMIENTO_GLOBAL                                  0\n",
              "ESTU_PRGM_ACADEMICO_ACTIVIDAD FISICA Y DEPORTE      0\n",
              "ESTU_PRGM_ACADEMICO_ACUICULTURA                     0\n",
              "                                                   ..\n",
              "ESTU_VALORMATRICULAUNIVERSIDAD_Menos de 500 mil     0\n",
              "ESTU_VALORMATRICULAUNIVERSIDAD_Más de 7 millones    0\n",
              "ESTU_VALORMATRICULAUNIVERSIDAD_No pagó matrícula    0\n",
              "FAMI_EDUCACIONPADRE_ORDINAL                         0\n",
              "FAMI_EDUCACIONMADRE_ORDINAL                         0\n",
              "Length: 1001, dtype: int64"
            ],
            "text/html": [
              "<div>\n",
              "<style scoped>\n",
              "    .dataframe tbody tr th:only-of-type {\n",
              "        vertical-align: middle;\n",
              "    }\n",
              "\n",
              "    .dataframe tbody tr th {\n",
              "        vertical-align: top;\n",
              "    }\n",
              "\n",
              "    .dataframe thead th {\n",
              "        text-align: right;\n",
              "    }\n",
              "</style>\n",
              "<table border=\"1\" class=\"dataframe\">\n",
              "  <thead>\n",
              "    <tr style=\"text-align: right;\">\n",
              "      <th></th>\n",
              "      <th>0</th>\n",
              "    </tr>\n",
              "  </thead>\n",
              "  <tbody>\n",
              "    <tr>\n",
              "      <th>ID</th>\n",
              "      <td>0</td>\n",
              "    </tr>\n",
              "    <tr>\n",
              "      <th>PERIODO</th>\n",
              "      <td>0</td>\n",
              "    </tr>\n",
              "    <tr>\n",
              "      <th>RENDIMIENTO_GLOBAL</th>\n",
              "      <td>0</td>\n",
              "    </tr>\n",
              "    <tr>\n",
              "      <th>ESTU_PRGM_ACADEMICO_ACTIVIDAD FISICA Y DEPORTE</th>\n",
              "      <td>0</td>\n",
              "    </tr>\n",
              "    <tr>\n",
              "      <th>ESTU_PRGM_ACADEMICO_ACUICULTURA</th>\n",
              "      <td>0</td>\n",
              "    </tr>\n",
              "    <tr>\n",
              "      <th>...</th>\n",
              "      <td>...</td>\n",
              "    </tr>\n",
              "    <tr>\n",
              "      <th>ESTU_VALORMATRICULAUNIVERSIDAD_Menos de 500 mil</th>\n",
              "      <td>0</td>\n",
              "    </tr>\n",
              "    <tr>\n",
              "      <th>ESTU_VALORMATRICULAUNIVERSIDAD_Más de 7 millones</th>\n",
              "      <td>0</td>\n",
              "    </tr>\n",
              "    <tr>\n",
              "      <th>ESTU_VALORMATRICULAUNIVERSIDAD_No pagó matrícula</th>\n",
              "      <td>0</td>\n",
              "    </tr>\n",
              "    <tr>\n",
              "      <th>FAMI_EDUCACIONPADRE_ORDINAL</th>\n",
              "      <td>0</td>\n",
              "    </tr>\n",
              "    <tr>\n",
              "      <th>FAMI_EDUCACIONMADRE_ORDINAL</th>\n",
              "      <td>0</td>\n",
              "    </tr>\n",
              "  </tbody>\n",
              "</table>\n",
              "<p>1001 rows × 1 columns</p>\n",
              "</div><br><label><b>dtype:</b> int64</label>"
            ]
          },
          "metadata": {},
          "execution_count": 111
        }
      ],
      "source": [
        "# Verificar las primeras filas después del preprocesamiento\n",
        "df.head()\n",
        "\n",
        "# Verificar si quedan valores nulos\n",
        "df.isnull().sum()"
      ]
    },
    {
      "cell_type": "markdown",
      "source": [
        "creamos el modelo de aprenizaje xgboost"
      ],
      "metadata": {
        "id": "iaR-z_Ca9cXp"
      }
    },
    {
      "cell_type": "code",
      "execution_count": null,
      "metadata": {
        "colab": {
          "base_uri": "https://localhost:8080/"
        },
        "id": "6V02Vu_ia9_n",
        "outputId": "0edcf505-b6aa-4f3e-9fb8-a93a56ad3239"
      },
      "outputs": [
        {
          "output_type": "stream",
          "name": "stdout",
          "text": [
            "Requirement already satisfied: lightgbm in /usr/local/lib/python3.10/dist-packages (4.5.0)\n",
            "Requirement already satisfied: numpy>=1.17.0 in /usr/local/lib/python3.10/dist-packages (from lightgbm) (1.26.4)\n",
            "Requirement already satisfied: scipy in /usr/local/lib/python3.10/dist-packages (from lightgbm) (1.13.1)\n"
          ]
        }
      ],
      "source": [
        "!pip install lightgbm"
      ]
    },
    {
      "cell_type": "code",
      "source": [
        "!pip install xgboost"
      ],
      "metadata": {
        "colab": {
          "base_uri": "https://localhost:8080/"
        },
        "id": "fu1zPd8EYILX",
        "outputId": "56e4f1c4-2177-4aaf-9f3d-c6cfade2b696"
      },
      "execution_count": null,
      "outputs": [
        {
          "output_type": "stream",
          "name": "stdout",
          "text": [
            "Requirement already satisfied: xgboost in /usr/local/lib/python3.10/dist-packages (2.1.2)\n",
            "Requirement already satisfied: numpy in /usr/local/lib/python3.10/dist-packages (from xgboost) (1.26.4)\n",
            "Requirement already satisfied: nvidia-nccl-cu12 in /usr/local/lib/python3.10/dist-packages (from xgboost) (2.23.4)\n",
            "Requirement already satisfied: scipy in /usr/local/lib/python3.10/dist-packages (from xgboost) (1.13.1)\n"
          ]
        }
      ]
    },
    {
      "cell_type": "code",
      "source": [
        "import lightgbm as lgb\n",
        "from sklearn.model_selection import train_test_split\n",
        "from sklearn.metrics import accuracy_score\n",
        "import re"
      ],
      "metadata": {
        "id": "d3Je5BdU25Sc"
      },
      "execution_count": null,
      "outputs": []
    },
    {
      "cell_type": "code",
      "execution_count": null,
      "metadata": {
        "id": "xe5KpAl0bfGp"
      },
      "outputs": [],
      "source": [
        "X = df.drop(columns=['RENDIMIENTO_GLOBAL'])  # Características\n",
        "y = df['RENDIMIENTO_GLOBAL']  # Variable objetivo\n",
        "\n",
        "X_train, X_test, y_train, y_test = train_test_split(X, y, test_size=0.1, random_state=42)\n"
      ]
    },
    {
      "cell_type": "code",
      "source": [
        "# Antes de crear el conjunto de datos LightGBM, reemplaza los caracteres especiales en los nombres de columna:\n",
        "X_train.columns = [re.sub(r'[^a-zA-Z0-9_]', '_', col) for col in X_train.columns]\n",
        "X_test.columns = [re.sub(r'[^a-zA-Z0-9_]', '_', col) for col in X_test.columns]"
      ],
      "metadata": {
        "id": "oBrH1N0W4jhK"
      },
      "execution_count": null,
      "outputs": []
    },
    {
      "cell_type": "code",
      "source": [
        "# Crea una función para limpiar los nombres de las columnas y asegurar la unicidad\n",
        "def limpiar_nombres_columnas(df):\n",
        "  \"\"\"\n",
        "  Limpia los nombres de las columnas reemplazando caracteres especiales y asegurando la unicidad.\n",
        "\n",
        "  Args:\n",
        "    df: Pandas DataFrame\n",
        "\n",
        "  Returns:\n",
        "    Pandas DataFrame con nombres de columnas limpios.\n",
        "  \"\"\"\n",
        "  vistos = set()\n",
        "  nuevas_columnas = []\n",
        "  for col in df.columns:\n",
        "    nueva_col = re.sub(r'[^a-zA-Z0-9_]', '_', col)\n",
        "    # Agrega un contador para asegurar la unicidad si el nombre de la columna se repite\n",
        "    contador = 1\n",
        "    while nueva_col in vistos:\n",
        "      nueva_col = f\"{nueva_col}_{contador}\"\n",
        "      contador += 1\n",
        "    nuevas_columnas.append(nueva_col)\n",
        "    vistos.add(nueva_col)\n",
        "  df.columns = nuevas_columnas\n",
        "  return df\n",
        "\n",
        "# Aplica la función a los datos de entrenamiento y prueba\n",
        "X_train = limpiar_nombres_columnas(X_train)\n",
        "X_test = limpiar_nombres_columnas(X_test)"
      ],
      "metadata": {
        "id": "xhpfAW8t5K0U"
      },
      "execution_count": null,
      "outputs": []
    },
    {
      "cell_type": "code",
      "source": [
        "train_data = lgb.Dataset(X_train, label=y_train)\n",
        "test_data = lgb.Dataset(X_test, label=y_test)"
      ],
      "metadata": {
        "id": "qNRMfpzy3DoJ"
      },
      "execution_count": null,
      "outputs": []
    },
    {
      "cell_type": "code",
      "source": [
        "params = {\n",
        "    'objective': 'multiclass',\n",
        "    'num_class': 4,  # Número de clases en 'RENDIMIENTO_GLOBAL'\n",
        "    'metric': 'multi_logloss',\n",
        "    'boosting_type': 'gbdt',\n",
        "    'num_leaves': 31,\n",
        "    'learning_rate': 0.05,\n",
        "    'feature_fraction': 0.9\n",
        "}"
      ],
      "metadata": {
        "id": "dnI_-ezF3IsK"
      },
      "execution_count": null,
      "outputs": []
    },
    {
      "cell_type": "code",
      "execution_count": null,
      "metadata": {
        "id": "72AMpuFJbCQ-"
      },
      "outputs": [],
      "source": [
        "import xgboost as xgb\n",
        "from sklearn.model_selection import train_test_split\n",
        "from sklearn.metrics import accuracy_score\n",
        "\n",
        "# 1. Dividir los datos en conjunto de entrenamiento y prueba\n",
        "X_train, X_test, y_train, y_test = train_test_split(X, y, test_size=0.1, random_state=42)"
      ]
    },
    {
      "cell_type": "code",
      "execution_count": null,
      "metadata": {
        "id": "ioSJ-lAkbrEg"
      },
      "outputs": [],
      "source": [
        "# 2. Crear el modelo de XGBoost\n",
        "xgb_model = xgb.XGBClassifier(\n",
        "    objective='multi:softmax',  # Para clasificación multiclase\n",
        "    num_class=4,                # Número de clases (bajo, medio-bajo, medio-alto, alto)\n",
        "    n_estimators=600,           # Número de árboles\n",
        "    learning_rate=0.1,          # Tasa de aprendizaje\n",
        "    max_depth=6,                # Profundidad máxima de los árboles\n",
        "    random_state=42\n",
        ")"
      ]
    },
    {
      "cell_type": "code",
      "execution_count": null,
      "metadata": {
        "colab": {
          "base_uri": "https://localhost:8080/",
          "height": 248
        },
        "id": "FYVse_TSbsTw",
        "outputId": "f5e8617f-e418-409f-c4d1-836c48ec3c7c"
      },
      "outputs": [
        {
          "output_type": "execute_result",
          "data": {
            "text/plain": [
              "XGBClassifier(base_score=None, booster=None, callbacks=None,\n",
              "              colsample_bylevel=None, colsample_bynode=None,\n",
              "              colsample_bytree=None, device=None, early_stopping_rounds=None,\n",
              "              enable_categorical=False, eval_metric=None, feature_types=None,\n",
              "              gamma=None, grow_policy=None, importance_type=None,\n",
              "              interaction_constraints=None, learning_rate=0.1, max_bin=None,\n",
              "              max_cat_threshold=None, max_cat_to_onehot=None,\n",
              "              max_delta_step=None, max_depth=6, max_leaves=None,\n",
              "              min_child_weight=None, missing=nan, monotone_constraints=None,\n",
              "              multi_strategy=None, n_estimators=600, n_jobs=None, num_class=4,\n",
              "              num_parallel_tree=None, ...)"
            ],
            "text/html": [
              "<style>#sk-container-id-5 {color: black;}#sk-container-id-5 pre{padding: 0;}#sk-container-id-5 div.sk-toggleable {background-color: white;}#sk-container-id-5 label.sk-toggleable__label {cursor: pointer;display: block;width: 100%;margin-bottom: 0;padding: 0.3em;box-sizing: border-box;text-align: center;}#sk-container-id-5 label.sk-toggleable__label-arrow:before {content: \"▸\";float: left;margin-right: 0.25em;color: #696969;}#sk-container-id-5 label.sk-toggleable__label-arrow:hover:before {color: black;}#sk-container-id-5 div.sk-estimator:hover label.sk-toggleable__label-arrow:before {color: black;}#sk-container-id-5 div.sk-toggleable__content {max-height: 0;max-width: 0;overflow: hidden;text-align: left;background-color: #f0f8ff;}#sk-container-id-5 div.sk-toggleable__content pre {margin: 0.2em;color: black;border-radius: 0.25em;background-color: #f0f8ff;}#sk-container-id-5 input.sk-toggleable__control:checked~div.sk-toggleable__content {max-height: 200px;max-width: 100%;overflow: auto;}#sk-container-id-5 input.sk-toggleable__control:checked~label.sk-toggleable__label-arrow:before {content: \"▾\";}#sk-container-id-5 div.sk-estimator input.sk-toggleable__control:checked~label.sk-toggleable__label {background-color: #d4ebff;}#sk-container-id-5 div.sk-label input.sk-toggleable__control:checked~label.sk-toggleable__label {background-color: #d4ebff;}#sk-container-id-5 input.sk-hidden--visually {border: 0;clip: rect(1px 1px 1px 1px);clip: rect(1px, 1px, 1px, 1px);height: 1px;margin: -1px;overflow: hidden;padding: 0;position: absolute;width: 1px;}#sk-container-id-5 div.sk-estimator {font-family: monospace;background-color: #f0f8ff;border: 1px dotted black;border-radius: 0.25em;box-sizing: border-box;margin-bottom: 0.5em;}#sk-container-id-5 div.sk-estimator:hover {background-color: #d4ebff;}#sk-container-id-5 div.sk-parallel-item::after {content: \"\";width: 100%;border-bottom: 1px solid gray;flex-grow: 1;}#sk-container-id-5 div.sk-label:hover label.sk-toggleable__label {background-color: #d4ebff;}#sk-container-id-5 div.sk-serial::before {content: \"\";position: absolute;border-left: 1px solid gray;box-sizing: border-box;top: 0;bottom: 0;left: 50%;z-index: 0;}#sk-container-id-5 div.sk-serial {display: flex;flex-direction: column;align-items: center;background-color: white;padding-right: 0.2em;padding-left: 0.2em;position: relative;}#sk-container-id-5 div.sk-item {position: relative;z-index: 1;}#sk-container-id-5 div.sk-parallel {display: flex;align-items: stretch;justify-content: center;background-color: white;position: relative;}#sk-container-id-5 div.sk-item::before, #sk-container-id-5 div.sk-parallel-item::before {content: \"\";position: absolute;border-left: 1px solid gray;box-sizing: border-box;top: 0;bottom: 0;left: 50%;z-index: -1;}#sk-container-id-5 div.sk-parallel-item {display: flex;flex-direction: column;z-index: 1;position: relative;background-color: white;}#sk-container-id-5 div.sk-parallel-item:first-child::after {align-self: flex-end;width: 50%;}#sk-container-id-5 div.sk-parallel-item:last-child::after {align-self: flex-start;width: 50%;}#sk-container-id-5 div.sk-parallel-item:only-child::after {width: 0;}#sk-container-id-5 div.sk-dashed-wrapped {border: 1px dashed gray;margin: 0 0.4em 0.5em 0.4em;box-sizing: border-box;padding-bottom: 0.4em;background-color: white;}#sk-container-id-5 div.sk-label label {font-family: monospace;font-weight: bold;display: inline-block;line-height: 1.2em;}#sk-container-id-5 div.sk-label-container {text-align: center;}#sk-container-id-5 div.sk-container {/* jupyter's `normalize.less` sets `[hidden] { display: none; }` but bootstrap.min.css set `[hidden] { display: none !important; }` so we also need the `!important` here to be able to override the default hidden behavior on the sphinx rendered scikit-learn.org. See: https://github.com/scikit-learn/scikit-learn/issues/21755 */display: inline-block !important;position: relative;}#sk-container-id-5 div.sk-text-repr-fallback {display: none;}</style><div id=\"sk-container-id-5\" class=\"sk-top-container\"><div class=\"sk-text-repr-fallback\"><pre>XGBClassifier(base_score=None, booster=None, callbacks=None,\n",
              "              colsample_bylevel=None, colsample_bynode=None,\n",
              "              colsample_bytree=None, device=None, early_stopping_rounds=None,\n",
              "              enable_categorical=False, eval_metric=None, feature_types=None,\n",
              "              gamma=None, grow_policy=None, importance_type=None,\n",
              "              interaction_constraints=None, learning_rate=0.1, max_bin=None,\n",
              "              max_cat_threshold=None, max_cat_to_onehot=None,\n",
              "              max_delta_step=None, max_depth=6, max_leaves=None,\n",
              "              min_child_weight=None, missing=nan, monotone_constraints=None,\n",
              "              multi_strategy=None, n_estimators=600, n_jobs=None, num_class=4,\n",
              "              num_parallel_tree=None, ...)</pre><b>In a Jupyter environment, please rerun this cell to show the HTML representation or trust the notebook. <br />On GitHub, the HTML representation is unable to render, please try loading this page with nbviewer.org.</b></div><div class=\"sk-container\" hidden><div class=\"sk-item\"><div class=\"sk-estimator sk-toggleable\"><input class=\"sk-toggleable__control sk-hidden--visually\" id=\"sk-estimator-id-5\" type=\"checkbox\" checked><label for=\"sk-estimator-id-5\" class=\"sk-toggleable__label sk-toggleable__label-arrow\">XGBClassifier</label><div class=\"sk-toggleable__content\"><pre>XGBClassifier(base_score=None, booster=None, callbacks=None,\n",
              "              colsample_bylevel=None, colsample_bynode=None,\n",
              "              colsample_bytree=None, device=None, early_stopping_rounds=None,\n",
              "              enable_categorical=False, eval_metric=None, feature_types=None,\n",
              "              gamma=None, grow_policy=None, importance_type=None,\n",
              "              interaction_constraints=None, learning_rate=0.1, max_bin=None,\n",
              "              max_cat_threshold=None, max_cat_to_onehot=None,\n",
              "              max_delta_step=None, max_depth=6, max_leaves=None,\n",
              "              min_child_weight=None, missing=nan, monotone_constraints=None,\n",
              "              multi_strategy=None, n_estimators=600, n_jobs=None, num_class=4,\n",
              "              num_parallel_tree=None, ...)</pre></div></div></div></div></div>"
            ]
          },
          "metadata": {},
          "execution_count": 133
        }
      ],
      "source": [
        "# 3. Entrenar el modelo\n",
        "xgb_model.fit(X_train, y_train)\n"
      ]
    },
    {
      "cell_type": "code",
      "execution_count": null,
      "metadata": {
        "id": "N6uTz9D1dmZE"
      },
      "outputs": [],
      "source": [
        "# 4. Predecir en el conjunto de prueba\n",
        "y_pred = xgb_model.predict(X_test)"
      ]
    },
    {
      "cell_type": "code",
      "execution_count": null,
      "metadata": {
        "colab": {
          "base_uri": "https://localhost:8080/"
        },
        "id": "Dnlh0xJWdnrS",
        "outputId": "a228d2e4-18c6-476a-df9f-928322d579d5"
      },
      "outputs": [
        {
          "output_type": "stream",
          "name": "stdout",
          "text": [
            "Accuracy: 0.4351913357400722\n"
          ]
        }
      ],
      "source": [
        "# 5. Evaluar el modelo\n",
        "accuracy = accuracy_score(y_test, y_pred)\n",
        "print(f\"Accuracy: {accuracy}\")"
      ]
    },
    {
      "cell_type": "code",
      "source": [
        "import xgboost as xgb\n",
        "from sklearn.model_selection import train_test_split\n",
        "from sklearn.metrics import accuracy_score, precision_score, recall_score, f1_score, confusion_matrix, roc_auc_score\n",
        "import seaborn as sns\n",
        "import matplotlib.pyplot as plt"
      ],
      "metadata": {
        "id": "5o9zDBVgZa8j"
      },
      "execution_count": null,
      "outputs": []
    },
    {
      "cell_type": "code",
      "source": [
        "# ROC AUC Score (One-vs-Rest)\n",
        "roc_auc = roc_auc_score(y_test, xgb_model.predict_proba(X_test), multi_class='ovr')\n",
        "print(f\"ROC AUC Score: {roc_auc}\")"
      ],
      "metadata": {
        "colab": {
          "base_uri": "https://localhost:8080/"
        },
        "id": "_VoFMwFsYz4C",
        "outputId": "1c912582-5540-4055-ad63-1c4e20f30471"
      },
      "execution_count": null,
      "outputs": [
        {
          "output_type": "stream",
          "name": "stdout",
          "text": [
            "ROC AUC Score: 0.7048940015163982\n"
          ]
        }
      ]
    },
    {
      "cell_type": "markdown",
      "source": [
        "preprocesamos el archivo test"
      ],
      "metadata": {
        "id": "aD2P9lQoanYr"
      }
    },
    {
      "cell_type": "code",
      "source": [
        "import pandas as pd\n",
        "\n",
        "df = pd.read_csv('/content/udea-ai4eng-20242/test.csv')\n",
        "\n",
        "# Muestra las primeras filas del DataFrame\n",
        "from IPython.display import display\n",
        "\n",
        "display(df.head(),df.info())"
      ],
      "metadata": {
        "colab": {
          "base_uri": "https://localhost:8080/",
          "height": 712
        },
        "id": "Qua0yFNEam-r",
        "outputId": "38ed7e68-a504-492d-a5d6-63157dafef63"
      },
      "execution_count": null,
      "outputs": [
        {
          "output_type": "stream",
          "name": "stdout",
          "text": [
            "<class 'pandas.core.frame.DataFrame'>\n",
            "RangeIndex: 296786 entries, 0 to 296785\n",
            "Data columns (total 12 columns):\n",
            " #   Column                          Non-Null Count   Dtype \n",
            "---  ------                          --------------   ----- \n",
            " 0   Unnamed: 0                      296786 non-null  int64 \n",
            " 1   ID                              296786 non-null  int64 \n",
            " 2   PERIODO                         296786 non-null  int64 \n",
            " 3   ESTU_PRGM_ACADEMICO             296786 non-null  object\n",
            " 4   ESTU_PRGM_DEPARTAMENTO          296786 non-null  object\n",
            " 5   ESTU_VALORMATRICULAUNIVERSIDAD  294063 non-null  object\n",
            " 6   ESTU_HORASSEMANATRABAJA         283407 non-null  object\n",
            " 7   FAMI_ESTRATOVIVIENDA            282991 non-null  object\n",
            " 8   FAMI_TIENEINTERNET              285247 non-null  object\n",
            " 9   FAMI_EDUCACIONPADRE             286793 non-null  object\n",
            " 10  FAMI_EDUCACIONMADRE             286563 non-null  object\n",
            " 11  ESTU_PAGOMATRICULAPROPIO        293979 non-null  object\n",
            "dtypes: int64(3), object(9)\n",
            "memory usage: 27.2+ MB\n"
          ]
        },
        {
          "output_type": "display_data",
          "data": {
            "text/plain": [
              "   Unnamed: 0      ID  PERIODO                     ESTU_PRGM_ACADEMICO  \\\n",
              "0           0  550236    20183                          TRABAJO SOCIAL   \n",
              "1           1   98545    20203  ADMINISTRACION COMERCIAL Y DE MERCADEO   \n",
              "2           2  499179    20212                  INGENIERIA MECATRONICA   \n",
              "3           3  782980    20195                      CONTADURIA PUBLICA   \n",
              "4           4  785185    20212              ADMINISTRACION DE EMPRESAS   \n",
              "\n",
              "  ESTU_PRGM_DEPARTAMENTO            ESTU_VALORMATRICULAUNIVERSIDAD  \\\n",
              "0                BOLIVAR                          Menos de 500 mil   \n",
              "1              ANTIOQUIA  Entre 2.5 millones y menos de 4 millones   \n",
              "2                 BOGOTÁ    Entre 1 millón y menos de 2.5 millones   \n",
              "3                  SUCRE    Entre 1 millón y menos de 2.5 millones   \n",
              "4              ATLANTICO  Entre 2.5 millones y menos de 4 millones   \n",
              "\n",
              "  ESTU_HORASSEMANATRABAJA FAMI_ESTRATOVIVIENDA FAMI_TIENEINTERNET  \\\n",
              "0       Menos de 10 horas            Estrato 3                 Si   \n",
              "1     Entre 21 y 30 horas            Estrato 2                 Si   \n",
              "2                       0            Estrato 3                 Si   \n",
              "3     Entre 21 y 30 horas            Estrato 1                 No   \n",
              "4     Entre 11 y 20 horas            Estrato 2                 Si   \n",
              "\n",
              "                    FAMI_EDUCACIONPADRE                 FAMI_EDUCACIONMADRE  \\\n",
              "0        Técnica o tecnológica completa                   Primaria completa   \n",
              "1    Secundaria (Bachillerato) completa      Técnica o tecnológica completa   \n",
              "2  Secundaria (Bachillerato) incompleta  Secundaria (Bachillerato) completa   \n",
              "3                   Primaria incompleta                 Primaria incompleta   \n",
              "4    Secundaria (Bachillerato) completa  Secundaria (Bachillerato) completa   \n",
              "\n",
              "  ESTU_PAGOMATRICULAPROPIO  \n",
              "0                       Si  \n",
              "1                       No  \n",
              "2                       No  \n",
              "3                       No  \n",
              "4                       No  "
            ],
            "text/html": [
              "\n",
              "  <div id=\"df-ed14e23f-3ca0-4eef-bbfc-43ba2bb4e75a\" class=\"colab-df-container\">\n",
              "    <div>\n",
              "<style scoped>\n",
              "    .dataframe tbody tr th:only-of-type {\n",
              "        vertical-align: middle;\n",
              "    }\n",
              "\n",
              "    .dataframe tbody tr th {\n",
              "        vertical-align: top;\n",
              "    }\n",
              "\n",
              "    .dataframe thead th {\n",
              "        text-align: right;\n",
              "    }\n",
              "</style>\n",
              "<table border=\"1\" class=\"dataframe\">\n",
              "  <thead>\n",
              "    <tr style=\"text-align: right;\">\n",
              "      <th></th>\n",
              "      <th>Unnamed: 0</th>\n",
              "      <th>ID</th>\n",
              "      <th>PERIODO</th>\n",
              "      <th>ESTU_PRGM_ACADEMICO</th>\n",
              "      <th>ESTU_PRGM_DEPARTAMENTO</th>\n",
              "      <th>ESTU_VALORMATRICULAUNIVERSIDAD</th>\n",
              "      <th>ESTU_HORASSEMANATRABAJA</th>\n",
              "      <th>FAMI_ESTRATOVIVIENDA</th>\n",
              "      <th>FAMI_TIENEINTERNET</th>\n",
              "      <th>FAMI_EDUCACIONPADRE</th>\n",
              "      <th>FAMI_EDUCACIONMADRE</th>\n",
              "      <th>ESTU_PAGOMATRICULAPROPIO</th>\n",
              "    </tr>\n",
              "  </thead>\n",
              "  <tbody>\n",
              "    <tr>\n",
              "      <th>0</th>\n",
              "      <td>0</td>\n",
              "      <td>550236</td>\n",
              "      <td>20183</td>\n",
              "      <td>TRABAJO SOCIAL</td>\n",
              "      <td>BOLIVAR</td>\n",
              "      <td>Menos de 500 mil</td>\n",
              "      <td>Menos de 10 horas</td>\n",
              "      <td>Estrato 3</td>\n",
              "      <td>Si</td>\n",
              "      <td>Técnica o tecnológica completa</td>\n",
              "      <td>Primaria completa</td>\n",
              "      <td>Si</td>\n",
              "    </tr>\n",
              "    <tr>\n",
              "      <th>1</th>\n",
              "      <td>1</td>\n",
              "      <td>98545</td>\n",
              "      <td>20203</td>\n",
              "      <td>ADMINISTRACION COMERCIAL Y DE MERCADEO</td>\n",
              "      <td>ANTIOQUIA</td>\n",
              "      <td>Entre 2.5 millones y menos de 4 millones</td>\n",
              "      <td>Entre 21 y 30 horas</td>\n",
              "      <td>Estrato 2</td>\n",
              "      <td>Si</td>\n",
              "      <td>Secundaria (Bachillerato) completa</td>\n",
              "      <td>Técnica o tecnológica completa</td>\n",
              "      <td>No</td>\n",
              "    </tr>\n",
              "    <tr>\n",
              "      <th>2</th>\n",
              "      <td>2</td>\n",
              "      <td>499179</td>\n",
              "      <td>20212</td>\n",
              "      <td>INGENIERIA MECATRONICA</td>\n",
              "      <td>BOGOTÁ</td>\n",
              "      <td>Entre 1 millón y menos de 2.5 millones</td>\n",
              "      <td>0</td>\n",
              "      <td>Estrato 3</td>\n",
              "      <td>Si</td>\n",
              "      <td>Secundaria (Bachillerato) incompleta</td>\n",
              "      <td>Secundaria (Bachillerato) completa</td>\n",
              "      <td>No</td>\n",
              "    </tr>\n",
              "    <tr>\n",
              "      <th>3</th>\n",
              "      <td>3</td>\n",
              "      <td>782980</td>\n",
              "      <td>20195</td>\n",
              "      <td>CONTADURIA PUBLICA</td>\n",
              "      <td>SUCRE</td>\n",
              "      <td>Entre 1 millón y menos de 2.5 millones</td>\n",
              "      <td>Entre 21 y 30 horas</td>\n",
              "      <td>Estrato 1</td>\n",
              "      <td>No</td>\n",
              "      <td>Primaria incompleta</td>\n",
              "      <td>Primaria incompleta</td>\n",
              "      <td>No</td>\n",
              "    </tr>\n",
              "    <tr>\n",
              "      <th>4</th>\n",
              "      <td>4</td>\n",
              "      <td>785185</td>\n",
              "      <td>20212</td>\n",
              "      <td>ADMINISTRACION DE EMPRESAS</td>\n",
              "      <td>ATLANTICO</td>\n",
              "      <td>Entre 2.5 millones y menos de 4 millones</td>\n",
              "      <td>Entre 11 y 20 horas</td>\n",
              "      <td>Estrato 2</td>\n",
              "      <td>Si</td>\n",
              "      <td>Secundaria (Bachillerato) completa</td>\n",
              "      <td>Secundaria (Bachillerato) completa</td>\n",
              "      <td>No</td>\n",
              "    </tr>\n",
              "  </tbody>\n",
              "</table>\n",
              "</div>\n",
              "    <div class=\"colab-df-buttons\">\n",
              "\n",
              "  <div class=\"colab-df-container\">\n",
              "    <button class=\"colab-df-convert\" onclick=\"convertToInteractive('df-ed14e23f-3ca0-4eef-bbfc-43ba2bb4e75a')\"\n",
              "            title=\"Convert this dataframe to an interactive table.\"\n",
              "            style=\"display:none;\">\n",
              "\n",
              "  <svg xmlns=\"http://www.w3.org/2000/svg\" height=\"24px\" viewBox=\"0 -960 960 960\">\n",
              "    <path d=\"M120-120v-720h720v720H120Zm60-500h600v-160H180v160Zm220 220h160v-160H400v160Zm0 220h160v-160H400v160ZM180-400h160v-160H180v160Zm440 0h160v-160H620v160ZM180-180h160v-160H180v160Zm440 0h160v-160H620v160Z\"/>\n",
              "  </svg>\n",
              "    </button>\n",
              "\n",
              "  <style>\n",
              "    .colab-df-container {\n",
              "      display:flex;\n",
              "      gap: 12px;\n",
              "    }\n",
              "\n",
              "    .colab-df-convert {\n",
              "      background-color: #E8F0FE;\n",
              "      border: none;\n",
              "      border-radius: 50%;\n",
              "      cursor: pointer;\n",
              "      display: none;\n",
              "      fill: #1967D2;\n",
              "      height: 32px;\n",
              "      padding: 0 0 0 0;\n",
              "      width: 32px;\n",
              "    }\n",
              "\n",
              "    .colab-df-convert:hover {\n",
              "      background-color: #E2EBFA;\n",
              "      box-shadow: 0px 1px 2px rgba(60, 64, 67, 0.3), 0px 1px 3px 1px rgba(60, 64, 67, 0.15);\n",
              "      fill: #174EA6;\n",
              "    }\n",
              "\n",
              "    .colab-df-buttons div {\n",
              "      margin-bottom: 4px;\n",
              "    }\n",
              "\n",
              "    [theme=dark] .colab-df-convert {\n",
              "      background-color: #3B4455;\n",
              "      fill: #D2E3FC;\n",
              "    }\n",
              "\n",
              "    [theme=dark] .colab-df-convert:hover {\n",
              "      background-color: #434B5C;\n",
              "      box-shadow: 0px 1px 3px 1px rgba(0, 0, 0, 0.15);\n",
              "      filter: drop-shadow(0px 1px 2px rgba(0, 0, 0, 0.3));\n",
              "      fill: #FFFFFF;\n",
              "    }\n",
              "  </style>\n",
              "\n",
              "    <script>\n",
              "      const buttonEl =\n",
              "        document.querySelector('#df-ed14e23f-3ca0-4eef-bbfc-43ba2bb4e75a button.colab-df-convert');\n",
              "      buttonEl.style.display =\n",
              "        google.colab.kernel.accessAllowed ? 'block' : 'none';\n",
              "\n",
              "      async function convertToInteractive(key) {\n",
              "        const element = document.querySelector('#df-ed14e23f-3ca0-4eef-bbfc-43ba2bb4e75a');\n",
              "        const dataTable =\n",
              "          await google.colab.kernel.invokeFunction('convertToInteractive',\n",
              "                                                    [key], {});\n",
              "        if (!dataTable) return;\n",
              "\n",
              "        const docLinkHtml = 'Like what you see? Visit the ' +\n",
              "          '<a target=\"_blank\" href=https://colab.research.google.com/notebooks/data_table.ipynb>data table notebook</a>'\n",
              "          + ' to learn more about interactive tables.';\n",
              "        element.innerHTML = '';\n",
              "        dataTable['output_type'] = 'display_data';\n",
              "        await google.colab.output.renderOutput(dataTable, element);\n",
              "        const docLink = document.createElement('div');\n",
              "        docLink.innerHTML = docLinkHtml;\n",
              "        element.appendChild(docLink);\n",
              "      }\n",
              "    </script>\n",
              "  </div>\n",
              "\n",
              "\n",
              "<div id=\"df-002919fb-1df3-49e9-b017-6d0cdf987cf7\">\n",
              "  <button class=\"colab-df-quickchart\" onclick=\"quickchart('df-002919fb-1df3-49e9-b017-6d0cdf987cf7')\"\n",
              "            title=\"Suggest charts\"\n",
              "            style=\"display:none;\">\n",
              "\n",
              "<svg xmlns=\"http://www.w3.org/2000/svg\" height=\"24px\"viewBox=\"0 0 24 24\"\n",
              "     width=\"24px\">\n",
              "    <g>\n",
              "        <path d=\"M19 3H5c-1.1 0-2 .9-2 2v14c0 1.1.9 2 2 2h14c1.1 0 2-.9 2-2V5c0-1.1-.9-2-2-2zM9 17H7v-7h2v7zm4 0h-2V7h2v10zm4 0h-2v-4h2v4z\"/>\n",
              "    </g>\n",
              "</svg>\n",
              "  </button>\n",
              "\n",
              "<style>\n",
              "  .colab-df-quickchart {\n",
              "      --bg-color: #E8F0FE;\n",
              "      --fill-color: #1967D2;\n",
              "      --hover-bg-color: #E2EBFA;\n",
              "      --hover-fill-color: #174EA6;\n",
              "      --disabled-fill-color: #AAA;\n",
              "      --disabled-bg-color: #DDD;\n",
              "  }\n",
              "\n",
              "  [theme=dark] .colab-df-quickchart {\n",
              "      --bg-color: #3B4455;\n",
              "      --fill-color: #D2E3FC;\n",
              "      --hover-bg-color: #434B5C;\n",
              "      --hover-fill-color: #FFFFFF;\n",
              "      --disabled-bg-color: #3B4455;\n",
              "      --disabled-fill-color: #666;\n",
              "  }\n",
              "\n",
              "  .colab-df-quickchart {\n",
              "    background-color: var(--bg-color);\n",
              "    border: none;\n",
              "    border-radius: 50%;\n",
              "    cursor: pointer;\n",
              "    display: none;\n",
              "    fill: var(--fill-color);\n",
              "    height: 32px;\n",
              "    padding: 0;\n",
              "    width: 32px;\n",
              "  }\n",
              "\n",
              "  .colab-df-quickchart:hover {\n",
              "    background-color: var(--hover-bg-color);\n",
              "    box-shadow: 0 1px 2px rgba(60, 64, 67, 0.3), 0 1px 3px 1px rgba(60, 64, 67, 0.15);\n",
              "    fill: var(--button-hover-fill-color);\n",
              "  }\n",
              "\n",
              "  .colab-df-quickchart-complete:disabled,\n",
              "  .colab-df-quickchart-complete:disabled:hover {\n",
              "    background-color: var(--disabled-bg-color);\n",
              "    fill: var(--disabled-fill-color);\n",
              "    box-shadow: none;\n",
              "  }\n",
              "\n",
              "  .colab-df-spinner {\n",
              "    border: 2px solid var(--fill-color);\n",
              "    border-color: transparent;\n",
              "    border-bottom-color: var(--fill-color);\n",
              "    animation:\n",
              "      spin 1s steps(1) infinite;\n",
              "  }\n",
              "\n",
              "  @keyframes spin {\n",
              "    0% {\n",
              "      border-color: transparent;\n",
              "      border-bottom-color: var(--fill-color);\n",
              "      border-left-color: var(--fill-color);\n",
              "    }\n",
              "    20% {\n",
              "      border-color: transparent;\n",
              "      border-left-color: var(--fill-color);\n",
              "      border-top-color: var(--fill-color);\n",
              "    }\n",
              "    30% {\n",
              "      border-color: transparent;\n",
              "      border-left-color: var(--fill-color);\n",
              "      border-top-color: var(--fill-color);\n",
              "      border-right-color: var(--fill-color);\n",
              "    }\n",
              "    40% {\n",
              "      border-color: transparent;\n",
              "      border-right-color: var(--fill-color);\n",
              "      border-top-color: var(--fill-color);\n",
              "    }\n",
              "    60% {\n",
              "      border-color: transparent;\n",
              "      border-right-color: var(--fill-color);\n",
              "    }\n",
              "    80% {\n",
              "      border-color: transparent;\n",
              "      border-right-color: var(--fill-color);\n",
              "      border-bottom-color: var(--fill-color);\n",
              "    }\n",
              "    90% {\n",
              "      border-color: transparent;\n",
              "      border-bottom-color: var(--fill-color);\n",
              "    }\n",
              "  }\n",
              "</style>\n",
              "\n",
              "  <script>\n",
              "    async function quickchart(key) {\n",
              "      const quickchartButtonEl =\n",
              "        document.querySelector('#' + key + ' button');\n",
              "      quickchartButtonEl.disabled = true;  // To prevent multiple clicks.\n",
              "      quickchartButtonEl.classList.add('colab-df-spinner');\n",
              "      try {\n",
              "        const charts = await google.colab.kernel.invokeFunction(\n",
              "            'suggestCharts', [key], {});\n",
              "      } catch (error) {\n",
              "        console.error('Error during call to suggestCharts:', error);\n",
              "      }\n",
              "      quickchartButtonEl.classList.remove('colab-df-spinner');\n",
              "      quickchartButtonEl.classList.add('colab-df-quickchart-complete');\n",
              "    }\n",
              "    (() => {\n",
              "      let quickchartButtonEl =\n",
              "        document.querySelector('#df-002919fb-1df3-49e9-b017-6d0cdf987cf7 button');\n",
              "      quickchartButtonEl.style.display =\n",
              "        google.colab.kernel.accessAllowed ? 'block' : 'none';\n",
              "    })();\n",
              "  </script>\n",
              "</div>\n",
              "\n",
              "    </div>\n",
              "  </div>\n"
            ],
            "application/vnd.google.colaboratory.intrinsic+json": {
              "type": "dataframe",
              "summary": "{\n  \"name\": \"display(df\",\n  \"rows\": 5,\n  \"fields\": [\n    {\n      \"column\": \"Unnamed: 0\",\n      \"properties\": {\n        \"dtype\": \"number\",\n        \"std\": 1,\n        \"min\": 0,\n        \"max\": 4,\n        \"num_unique_values\": 5,\n        \"samples\": [\n          1,\n          4,\n          2\n        ],\n        \"semantic_type\": \"\",\n        \"description\": \"\"\n      }\n    },\n    {\n      \"column\": \"ID\",\n      \"properties\": {\n        \"dtype\": \"number\",\n        \"std\": 280961,\n        \"min\": 98545,\n        \"max\": 785185,\n        \"num_unique_values\": 5,\n        \"samples\": [\n          98545,\n          785185,\n          499179\n        ],\n        \"semantic_type\": \"\",\n        \"description\": \"\"\n      }\n    },\n    {\n      \"column\": \"PERIODO\",\n      \"properties\": {\n        \"dtype\": \"number\",\n        \"std\": 12,\n        \"min\": 20183,\n        \"max\": 20212,\n        \"num_unique_values\": 4,\n        \"samples\": [\n          20203,\n          20195,\n          20183\n        ],\n        \"semantic_type\": \"\",\n        \"description\": \"\"\n      }\n    },\n    {\n      \"column\": \"ESTU_PRGM_ACADEMICO\",\n      \"properties\": {\n        \"dtype\": \"string\",\n        \"num_unique_values\": 5,\n        \"samples\": [\n          \"ADMINISTRACION COMERCIAL Y DE MERCADEO\",\n          \"ADMINISTRACION DE EMPRESAS\",\n          \"INGENIERIA MECATRONICA\"\n        ],\n        \"semantic_type\": \"\",\n        \"description\": \"\"\n      }\n    },\n    {\n      \"column\": \"ESTU_PRGM_DEPARTAMENTO\",\n      \"properties\": {\n        \"dtype\": \"string\",\n        \"num_unique_values\": 5,\n        \"samples\": [\n          \"ANTIOQUIA\",\n          \"ATLANTICO\",\n          \"BOGOT\\u00c1\"\n        ],\n        \"semantic_type\": \"\",\n        \"description\": \"\"\n      }\n    },\n    {\n      \"column\": \"ESTU_VALORMATRICULAUNIVERSIDAD\",\n      \"properties\": {\n        \"dtype\": \"string\",\n        \"num_unique_values\": 3,\n        \"samples\": [\n          \"Menos de 500 mil\",\n          \"Entre 2.5 millones y menos de 4 millones\",\n          \"Entre 1 mill\\u00f3n y menos de 2.5 millones\"\n        ],\n        \"semantic_type\": \"\",\n        \"description\": \"\"\n      }\n    },\n    {\n      \"column\": \"ESTU_HORASSEMANATRABAJA\",\n      \"properties\": {\n        \"dtype\": \"string\",\n        \"num_unique_values\": 4,\n        \"samples\": [\n          \"Entre 21 y 30 horas\",\n          \"Entre 11 y 20 horas\",\n          \"Menos de 10 horas\"\n        ],\n        \"semantic_type\": \"\",\n        \"description\": \"\"\n      }\n    },\n    {\n      \"column\": \"FAMI_ESTRATOVIVIENDA\",\n      \"properties\": {\n        \"dtype\": \"string\",\n        \"num_unique_values\": 3,\n        \"samples\": [\n          \"Estrato 3\",\n          \"Estrato 2\",\n          \"Estrato 1\"\n        ],\n        \"semantic_type\": \"\",\n        \"description\": \"\"\n      }\n    },\n    {\n      \"column\": \"FAMI_TIENEINTERNET\",\n      \"properties\": {\n        \"dtype\": \"category\",\n        \"num_unique_values\": 2,\n        \"samples\": [\n          \"No\",\n          \"Si\"\n        ],\n        \"semantic_type\": \"\",\n        \"description\": \"\"\n      }\n    },\n    {\n      \"column\": \"FAMI_EDUCACIONPADRE\",\n      \"properties\": {\n        \"dtype\": \"string\",\n        \"num_unique_values\": 4,\n        \"samples\": [\n          \"Secundaria (Bachillerato) completa\",\n          \"Primaria incompleta\"\n        ],\n        \"semantic_type\": \"\",\n        \"description\": \"\"\n      }\n    },\n    {\n      \"column\": \"FAMI_EDUCACIONMADRE\",\n      \"properties\": {\n        \"dtype\": \"string\",\n        \"num_unique_values\": 4,\n        \"samples\": [\n          \"T\\u00e9cnica o tecnol\\u00f3gica completa\",\n          \"Primaria incompleta\"\n        ],\n        \"semantic_type\": \"\",\n        \"description\": \"\"\n      }\n    },\n    {\n      \"column\": \"ESTU_PAGOMATRICULAPROPIO\",\n      \"properties\": {\n        \"dtype\": \"category\",\n        \"num_unique_values\": 2,\n        \"samples\": [\n          \"No\",\n          \"Si\"\n        ],\n        \"semantic_type\": \"\",\n        \"description\": \"\"\n      }\n    }\n  ]\n}"
            }
          },
          "metadata": {}
        },
        {
          "output_type": "display_data",
          "data": {
            "text/plain": [
              "None"
            ]
          },
          "metadata": {}
        }
      ]
    },
    {
      "cell_type": "code",
      "source": [
        "df.isnull().sum()"
      ],
      "metadata": {
        "colab": {
          "base_uri": "https://localhost:8080/",
          "height": 460
        },
        "id": "H0uLBM0bbhkm",
        "outputId": "37bed071-4db1-4d9e-f5ab-66c0b5df44c1"
      },
      "execution_count": null,
      "outputs": [
        {
          "output_type": "execute_result",
          "data": {
            "text/plain": [
              "Unnamed: 0                            0\n",
              "ID                                    0\n",
              "PERIODO                               0\n",
              "ESTU_PRGM_ACADEMICO                   0\n",
              "ESTU_PRGM_DEPARTAMENTO                0\n",
              "ESTU_VALORMATRICULAUNIVERSIDAD     2723\n",
              "ESTU_HORASSEMANATRABAJA           13379\n",
              "FAMI_ESTRATOVIVIENDA              13795\n",
              "FAMI_TIENEINTERNET                11539\n",
              "FAMI_EDUCACIONPADRE                9993\n",
              "FAMI_EDUCACIONMADRE               10223\n",
              "ESTU_PAGOMATRICULAPROPIO           2807\n",
              "dtype: int64"
            ],
            "text/html": [
              "<div>\n",
              "<style scoped>\n",
              "    .dataframe tbody tr th:only-of-type {\n",
              "        vertical-align: middle;\n",
              "    }\n",
              "\n",
              "    .dataframe tbody tr th {\n",
              "        vertical-align: top;\n",
              "    }\n",
              "\n",
              "    .dataframe thead th {\n",
              "        text-align: right;\n",
              "    }\n",
              "</style>\n",
              "<table border=\"1\" class=\"dataframe\">\n",
              "  <thead>\n",
              "    <tr style=\"text-align: right;\">\n",
              "      <th></th>\n",
              "      <th>0</th>\n",
              "    </tr>\n",
              "  </thead>\n",
              "  <tbody>\n",
              "    <tr>\n",
              "      <th>Unnamed: 0</th>\n",
              "      <td>0</td>\n",
              "    </tr>\n",
              "    <tr>\n",
              "      <th>ID</th>\n",
              "      <td>0</td>\n",
              "    </tr>\n",
              "    <tr>\n",
              "      <th>PERIODO</th>\n",
              "      <td>0</td>\n",
              "    </tr>\n",
              "    <tr>\n",
              "      <th>ESTU_PRGM_ACADEMICO</th>\n",
              "      <td>0</td>\n",
              "    </tr>\n",
              "    <tr>\n",
              "      <th>ESTU_PRGM_DEPARTAMENTO</th>\n",
              "      <td>0</td>\n",
              "    </tr>\n",
              "    <tr>\n",
              "      <th>ESTU_VALORMATRICULAUNIVERSIDAD</th>\n",
              "      <td>2723</td>\n",
              "    </tr>\n",
              "    <tr>\n",
              "      <th>ESTU_HORASSEMANATRABAJA</th>\n",
              "      <td>13379</td>\n",
              "    </tr>\n",
              "    <tr>\n",
              "      <th>FAMI_ESTRATOVIVIENDA</th>\n",
              "      <td>13795</td>\n",
              "    </tr>\n",
              "    <tr>\n",
              "      <th>FAMI_TIENEINTERNET</th>\n",
              "      <td>11539</td>\n",
              "    </tr>\n",
              "    <tr>\n",
              "      <th>FAMI_EDUCACIONPADRE</th>\n",
              "      <td>9993</td>\n",
              "    </tr>\n",
              "    <tr>\n",
              "      <th>FAMI_EDUCACIONMADRE</th>\n",
              "      <td>10223</td>\n",
              "    </tr>\n",
              "    <tr>\n",
              "      <th>ESTU_PAGOMATRICULAPROPIO</th>\n",
              "      <td>2807</td>\n",
              "    </tr>\n",
              "  </tbody>\n",
              "</table>\n",
              "</div><br><label><b>dtype:</b> int64</label>"
            ]
          },
          "metadata": {},
          "execution_count": 139
        }
      ]
    },
    {
      "cell_type": "code",
      "source": [
        "import numpy as np\n",
        "import pandas as pd\n",
        "from sklearn.impute import SimpleImputer\n",
        "\n",
        "# Crea un SimpleImputer con la estrategia deseada (ej., 'mean', 'median', 'most_frequent')\n",
        "imputer = SimpleImputer(strategy='most_frequent') # Elige la estrategia deseada\n",
        "\n",
        "# Selecciona las columnas numéricas para la imputación\n",
        "columns_imputer = ['FAMI_EDUCACIONPADRE', 'FAMI_EDUCACIONMADRE']\n",
        "\n",
        "# Aplica la imputación a las columnas seleccionadas\n",
        "df[columns_imputer] = imputer.fit_transform(df[columns_imputer])"
      ],
      "metadata": {
        "id": "19gRcDDseHDi"
      },
      "execution_count": null,
      "outputs": []
    },
    {
      "cell_type": "code",
      "source": [
        "import numpy as np\n",
        "#codificacion ordinal educacion padre\n",
        "educacion_mapping = {\n",
        "    \"Ninguno\": 0,\n",
        "    \"No sabe\": 1,\n",
        "    \"No Aplica\": 2,\n",
        "    \"Primaria incompleta\": 3,\n",
        "    \"Primaria completa\": 4,\n",
        "    \"Secundaria (Bachillerato) incompleta\": 5,\n",
        "    \"Secundaria (Bachillerato) completa\": 6,\n",
        "    \"Técnica o tecnológica incompleta\":7,\n",
        "    \"Técnica o tecnológica completa\":8,\n",
        "    \"Educación profesional incompleta\": 9,\n",
        "    \"Educación profesional completa\": 10,\n",
        "    \"Postgrado\": 11\n",
        "}\n",
        "df['FAMI_EDUCACIONPADRE_ORDINAL'] = df['FAMI_EDUCACIONPADRE'].map(educacion_mapping)"
      ],
      "metadata": {
        "id": "1ZEV59DSAPxn"
      },
      "execution_count": null,
      "outputs": []
    },
    {
      "cell_type": "code",
      "source": [
        "#codificacion ordinal educacion madre\n",
        "educacion_mapping = {\n",
        "    \"Ninguno\": 0,\n",
        "    \"No sabe\": 1,\n",
        "    \"No Aplica\": 2,\n",
        "    \"Primaria incompleta\": 3,\n",
        "    \"Primaria completa\": 4,\n",
        "    \"Secundaria (Bachillerato) incompleta\": 5,\n",
        "    \"Secundaria (Bachillerato) completa\": 6,\n",
        "    \"Técnica o tecnológica incompleta\":7,\n",
        "    \"Técnica o tecnológica completa\":8,\n",
        "    \"Educación profesional incompleta\": 9,\n",
        "    \"Educación profesional completa\": 10,\n",
        "    \"Postgrado\": 11\n",
        "}\n",
        "df['FAMI_EDUCACIONMADRE_ORDINAL'] = df['FAMI_EDUCACIONMADRE'].map(educacion_mapping)"
      ],
      "metadata": {
        "id": "cjj3tA2wAV1A"
      },
      "execution_count": null,
      "outputs": []
    },
    {
      "cell_type": "code",
      "source": [
        "df = df.drop(['FAMI_EDUCACIONPADRE', 'FAMI_EDUCACIONMADRE'], axis=1)"
      ],
      "metadata": {
        "id": "Oy-3AVcdAiAj"
      },
      "execution_count": null,
      "outputs": []
    },
    {
      "cell_type": "code",
      "execution_count": null,
      "metadata": {
        "id": "PAkb6vSbeHcS"
      },
      "outputs": [],
      "source": [
        "# Codificación one-hot para variables categóricas\n",
        "df = pd.get_dummies(df, columns=['ESTU_PRGM_ACADEMICO', 'ESTU_PRGM_DEPARTAMENTO', 'FAMI_ESTRATOVIVIENDA', 'ESTU_HORASSEMANATRABAJA', 'FAMI_TIENEINTERNET', 'ESTU_PAGOMATRICULAPROPIO', 'ESTU_VALORMATRICULAUNIVERSIDAD'], drop_first=True, dtype=int)"
      ]
    },
    {
      "cell_type": "code",
      "source": [
        "import numpy as np # Import the numpy library and assign it the alias 'np'\n",
        "\n",
        "# Asegúrate de que 'df' contenga solo las columnas numéricas antes de la imputación\n",
        "columnas_numericas = df.select_dtypes(include=np.number).columns\n",
        "df_imputed = imputer.fit_transform(df[columnas_numericas])\n",
        "\n",
        "# Crea un nuevo DataFrame con los valores imputados\n",
        "df_imputed = pd.DataFrame(df_imputed, columns=columnas_numericas, index=df.index)\n",
        "\n",
        "# Reemplaza las columnas originales con las columnas imputadas\n",
        "df[columnas_numericas] = df_imputed"
      ],
      "metadata": {
        "id": "ErPtvnrQAz8E"
      },
      "execution_count": null,
      "outputs": []
    },
    {
      "cell_type": "code",
      "source": [
        "# Obtener las columnas faltantes en df en comparación con X_train\n",
        "missing_cols = set(X_train.columns) - set(df.columns)\n",
        "\n",
        "# Agregar las columnas faltantes a df con valor 0\n",
        "for col in missing_cols:\n",
        "    df[col] = 0\n",
        "\n",
        "# Asegurar que df tenga las mismas columnas que X_train, en el mismo orden\n",
        "df = df[X_train.columns]\n",
        "\n",
        "# Realizar las predicciones en el conjunto de prueba preprocesado\n",
        "y_pred_test = xgb_model.predict(df)\n",
        "\n",
        "# Crear un DataFrame con las predicciones\n",
        "submission = pd.DataFrame({\n",
        "    'ID': df['ID'],  # Asegúrate de que 'ID' esté en el conjunto de prueba original\n",
        "    'Desempeño': y_pred_test\n",
        "})\n",
        "\n",
        "# Guardar el archivo CSV para Kaggle\n",
        "submission.to_csv('submission.csv', index=False)\n",
        "\n",
        "print(\"Archivo de submission creado correctamente.\")\n",
        "\n"
      ],
      "metadata": {
        "colab": {
          "base_uri": "https://localhost:8080/"
        },
        "id": "wuDFYvZHfGyI",
        "outputId": "f7f21d80-c37e-4c93-c32d-864ba1cd893f"
      },
      "execution_count": null,
      "outputs": [
        {
          "output_type": "stream",
          "name": "stderr",
          "text": [
            "<ipython-input-146-93dafb799630>:6: PerformanceWarning: DataFrame is highly fragmented.  This is usually the result of calling `frame.insert` many times, which has poor performance.  Consider joining all columns at once using pd.concat(axis=1) instead. To get a de-fragmented frame, use `newframe = frame.copy()`\n",
            "  df[col] = 0\n",
            "<ipython-input-146-93dafb799630>:6: PerformanceWarning: DataFrame is highly fragmented.  This is usually the result of calling `frame.insert` many times, which has poor performance.  Consider joining all columns at once using pd.concat(axis=1) instead. To get a de-fragmented frame, use `newframe = frame.copy()`\n",
            "  df[col] = 0\n",
            "<ipython-input-146-93dafb799630>:6: PerformanceWarning: DataFrame is highly fragmented.  This is usually the result of calling `frame.insert` many times, which has poor performance.  Consider joining all columns at once using pd.concat(axis=1) instead. To get a de-fragmented frame, use `newframe = frame.copy()`\n",
            "  df[col] = 0\n",
            "<ipython-input-146-93dafb799630>:6: PerformanceWarning: DataFrame is highly fragmented.  This is usually the result of calling `frame.insert` many times, which has poor performance.  Consider joining all columns at once using pd.concat(axis=1) instead. To get a de-fragmented frame, use `newframe = frame.copy()`\n",
            "  df[col] = 0\n",
            "<ipython-input-146-93dafb799630>:6: PerformanceWarning: DataFrame is highly fragmented.  This is usually the result of calling `frame.insert` many times, which has poor performance.  Consider joining all columns at once using pd.concat(axis=1) instead. To get a de-fragmented frame, use `newframe = frame.copy()`\n",
            "  df[col] = 0\n",
            "<ipython-input-146-93dafb799630>:6: PerformanceWarning: DataFrame is highly fragmented.  This is usually the result of calling `frame.insert` many times, which has poor performance.  Consider joining all columns at once using pd.concat(axis=1) instead. To get a de-fragmented frame, use `newframe = frame.copy()`\n",
            "  df[col] = 0\n",
            "<ipython-input-146-93dafb799630>:6: PerformanceWarning: DataFrame is highly fragmented.  This is usually the result of calling `frame.insert` many times, which has poor performance.  Consider joining all columns at once using pd.concat(axis=1) instead. To get a de-fragmented frame, use `newframe = frame.copy()`\n",
            "  df[col] = 0\n",
            "<ipython-input-146-93dafb799630>:6: PerformanceWarning: DataFrame is highly fragmented.  This is usually the result of calling `frame.insert` many times, which has poor performance.  Consider joining all columns at once using pd.concat(axis=1) instead. To get a de-fragmented frame, use `newframe = frame.copy()`\n",
            "  df[col] = 0\n",
            "<ipython-input-146-93dafb799630>:6: PerformanceWarning: DataFrame is highly fragmented.  This is usually the result of calling `frame.insert` many times, which has poor performance.  Consider joining all columns at once using pd.concat(axis=1) instead. To get a de-fragmented frame, use `newframe = frame.copy()`\n",
            "  df[col] = 0\n",
            "<ipython-input-146-93dafb799630>:6: PerformanceWarning: DataFrame is highly fragmented.  This is usually the result of calling `frame.insert` many times, which has poor performance.  Consider joining all columns at once using pd.concat(axis=1) instead. To get a de-fragmented frame, use `newframe = frame.copy()`\n",
            "  df[col] = 0\n",
            "<ipython-input-146-93dafb799630>:6: PerformanceWarning: DataFrame is highly fragmented.  This is usually the result of calling `frame.insert` many times, which has poor performance.  Consider joining all columns at once using pd.concat(axis=1) instead. To get a de-fragmented frame, use `newframe = frame.copy()`\n",
            "  df[col] = 0\n",
            "<ipython-input-146-93dafb799630>:6: PerformanceWarning: DataFrame is highly fragmented.  This is usually the result of calling `frame.insert` many times, which has poor performance.  Consider joining all columns at once using pd.concat(axis=1) instead. To get a de-fragmented frame, use `newframe = frame.copy()`\n",
            "  df[col] = 0\n",
            "<ipython-input-146-93dafb799630>:6: PerformanceWarning: DataFrame is highly fragmented.  This is usually the result of calling `frame.insert` many times, which has poor performance.  Consider joining all columns at once using pd.concat(axis=1) instead. To get a de-fragmented frame, use `newframe = frame.copy()`\n",
            "  df[col] = 0\n",
            "<ipython-input-146-93dafb799630>:6: PerformanceWarning: DataFrame is highly fragmented.  This is usually the result of calling `frame.insert` many times, which has poor performance.  Consider joining all columns at once using pd.concat(axis=1) instead. To get a de-fragmented frame, use `newframe = frame.copy()`\n",
            "  df[col] = 0\n",
            "<ipython-input-146-93dafb799630>:6: PerformanceWarning: DataFrame is highly fragmented.  This is usually the result of calling `frame.insert` many times, which has poor performance.  Consider joining all columns at once using pd.concat(axis=1) instead. To get a de-fragmented frame, use `newframe = frame.copy()`\n",
            "  df[col] = 0\n",
            "<ipython-input-146-93dafb799630>:6: PerformanceWarning: DataFrame is highly fragmented.  This is usually the result of calling `frame.insert` many times, which has poor performance.  Consider joining all columns at once using pd.concat(axis=1) instead. To get a de-fragmented frame, use `newframe = frame.copy()`\n",
            "  df[col] = 0\n",
            "<ipython-input-146-93dafb799630>:6: PerformanceWarning: DataFrame is highly fragmented.  This is usually the result of calling `frame.insert` many times, which has poor performance.  Consider joining all columns at once using pd.concat(axis=1) instead. To get a de-fragmented frame, use `newframe = frame.copy()`\n",
            "  df[col] = 0\n",
            "<ipython-input-146-93dafb799630>:6: PerformanceWarning: DataFrame is highly fragmented.  This is usually the result of calling `frame.insert` many times, which has poor performance.  Consider joining all columns at once using pd.concat(axis=1) instead. To get a de-fragmented frame, use `newframe = frame.copy()`\n",
            "  df[col] = 0\n",
            "<ipython-input-146-93dafb799630>:6: PerformanceWarning: DataFrame is highly fragmented.  This is usually the result of calling `frame.insert` many times, which has poor performance.  Consider joining all columns at once using pd.concat(axis=1) instead. To get a de-fragmented frame, use `newframe = frame.copy()`\n",
            "  df[col] = 0\n",
            "<ipython-input-146-93dafb799630>:6: PerformanceWarning: DataFrame is highly fragmented.  This is usually the result of calling `frame.insert` many times, which has poor performance.  Consider joining all columns at once using pd.concat(axis=1) instead. To get a de-fragmented frame, use `newframe = frame.copy()`\n",
            "  df[col] = 0\n",
            "<ipython-input-146-93dafb799630>:6: PerformanceWarning: DataFrame is highly fragmented.  This is usually the result of calling `frame.insert` many times, which has poor performance.  Consider joining all columns at once using pd.concat(axis=1) instead. To get a de-fragmented frame, use `newframe = frame.copy()`\n",
            "  df[col] = 0\n",
            "<ipython-input-146-93dafb799630>:6: PerformanceWarning: DataFrame is highly fragmented.  This is usually the result of calling `frame.insert` many times, which has poor performance.  Consider joining all columns at once using pd.concat(axis=1) instead. To get a de-fragmented frame, use `newframe = frame.copy()`\n",
            "  df[col] = 0\n",
            "<ipython-input-146-93dafb799630>:6: PerformanceWarning: DataFrame is highly fragmented.  This is usually the result of calling `frame.insert` many times, which has poor performance.  Consider joining all columns at once using pd.concat(axis=1) instead. To get a de-fragmented frame, use `newframe = frame.copy()`\n",
            "  df[col] = 0\n",
            "<ipython-input-146-93dafb799630>:6: PerformanceWarning: DataFrame is highly fragmented.  This is usually the result of calling `frame.insert` many times, which has poor performance.  Consider joining all columns at once using pd.concat(axis=1) instead. To get a de-fragmented frame, use `newframe = frame.copy()`\n",
            "  df[col] = 0\n",
            "<ipython-input-146-93dafb799630>:6: PerformanceWarning: DataFrame is highly fragmented.  This is usually the result of calling `frame.insert` many times, which has poor performance.  Consider joining all columns at once using pd.concat(axis=1) instead. To get a de-fragmented frame, use `newframe = frame.copy()`\n",
            "  df[col] = 0\n",
            "<ipython-input-146-93dafb799630>:6: PerformanceWarning: DataFrame is highly fragmented.  This is usually the result of calling `frame.insert` many times, which has poor performance.  Consider joining all columns at once using pd.concat(axis=1) instead. To get a de-fragmented frame, use `newframe = frame.copy()`\n",
            "  df[col] = 0\n",
            "<ipython-input-146-93dafb799630>:6: PerformanceWarning: DataFrame is highly fragmented.  This is usually the result of calling `frame.insert` many times, which has poor performance.  Consider joining all columns at once using pd.concat(axis=1) instead. To get a de-fragmented frame, use `newframe = frame.copy()`\n",
            "  df[col] = 0\n",
            "<ipython-input-146-93dafb799630>:6: PerformanceWarning: DataFrame is highly fragmented.  This is usually the result of calling `frame.insert` many times, which has poor performance.  Consider joining all columns at once using pd.concat(axis=1) instead. To get a de-fragmented frame, use `newframe = frame.copy()`\n",
            "  df[col] = 0\n",
            "<ipython-input-146-93dafb799630>:6: PerformanceWarning: DataFrame is highly fragmented.  This is usually the result of calling `frame.insert` many times, which has poor performance.  Consider joining all columns at once using pd.concat(axis=1) instead. To get a de-fragmented frame, use `newframe = frame.copy()`\n",
            "  df[col] = 0\n",
            "<ipython-input-146-93dafb799630>:6: PerformanceWarning: DataFrame is highly fragmented.  This is usually the result of calling `frame.insert` many times, which has poor performance.  Consider joining all columns at once using pd.concat(axis=1) instead. To get a de-fragmented frame, use `newframe = frame.copy()`\n",
            "  df[col] = 0\n",
            "<ipython-input-146-93dafb799630>:6: PerformanceWarning: DataFrame is highly fragmented.  This is usually the result of calling `frame.insert` many times, which has poor performance.  Consider joining all columns at once using pd.concat(axis=1) instead. To get a de-fragmented frame, use `newframe = frame.copy()`\n",
            "  df[col] = 0\n",
            "<ipython-input-146-93dafb799630>:6: PerformanceWarning: DataFrame is highly fragmented.  This is usually the result of calling `frame.insert` many times, which has poor performance.  Consider joining all columns at once using pd.concat(axis=1) instead. To get a de-fragmented frame, use `newframe = frame.copy()`\n",
            "  df[col] = 0\n",
            "<ipython-input-146-93dafb799630>:6: PerformanceWarning: DataFrame is highly fragmented.  This is usually the result of calling `frame.insert` many times, which has poor performance.  Consider joining all columns at once using pd.concat(axis=1) instead. To get a de-fragmented frame, use `newframe = frame.copy()`\n",
            "  df[col] = 0\n",
            "<ipython-input-146-93dafb799630>:6: PerformanceWarning: DataFrame is highly fragmented.  This is usually the result of calling `frame.insert` many times, which has poor performance.  Consider joining all columns at once using pd.concat(axis=1) instead. To get a de-fragmented frame, use `newframe = frame.copy()`\n",
            "  df[col] = 0\n",
            "<ipython-input-146-93dafb799630>:6: PerformanceWarning: DataFrame is highly fragmented.  This is usually the result of calling `frame.insert` many times, which has poor performance.  Consider joining all columns at once using pd.concat(axis=1) instead. To get a de-fragmented frame, use `newframe = frame.copy()`\n",
            "  df[col] = 0\n",
            "<ipython-input-146-93dafb799630>:6: PerformanceWarning: DataFrame is highly fragmented.  This is usually the result of calling `frame.insert` many times, which has poor performance.  Consider joining all columns at once using pd.concat(axis=1) instead. To get a de-fragmented frame, use `newframe = frame.copy()`\n",
            "  df[col] = 0\n",
            "<ipython-input-146-93dafb799630>:6: PerformanceWarning: DataFrame is highly fragmented.  This is usually the result of calling `frame.insert` many times, which has poor performance.  Consider joining all columns at once using pd.concat(axis=1) instead. To get a de-fragmented frame, use `newframe = frame.copy()`\n",
            "  df[col] = 0\n",
            "<ipython-input-146-93dafb799630>:6: PerformanceWarning: DataFrame is highly fragmented.  This is usually the result of calling `frame.insert` many times, which has poor performance.  Consider joining all columns at once using pd.concat(axis=1) instead. To get a de-fragmented frame, use `newframe = frame.copy()`\n",
            "  df[col] = 0\n",
            "<ipython-input-146-93dafb799630>:6: PerformanceWarning: DataFrame is highly fragmented.  This is usually the result of calling `frame.insert` many times, which has poor performance.  Consider joining all columns at once using pd.concat(axis=1) instead. To get a de-fragmented frame, use `newframe = frame.copy()`\n",
            "  df[col] = 0\n"
          ]
        },
        {
          "output_type": "stream",
          "name": "stdout",
          "text": [
            "Archivo de submission creado correctamente.\n"
          ]
        }
      ]
    },
    {
      "cell_type": "code",
      "source": [
        "# Supongamos que el modelo predice los valores 0, 1, 2, 3\n",
        "# Los mapeamos a las etiquetas correspondientes\n",
        "predicciones_map = {\n",
        "    0: 'bajo',\n",
        "    1: 'medio bajo',\n",
        "    2: 'medio alto',\n",
        "    3: 'alto'\n",
        "}\n",
        "\n",
        "# Convertir las predicciones numéricas a las etiquetas de desempeño\n",
        "# Convertir y_pred_test a pandas.Series antes de usar map\n",
        "submission['Desempeño'] = pd.Series(y_pred_test).map(predicciones_map)\n",
        "\n",
        "# Guardar el archivo de submission corregido\n",
        "submission.to_csv('submission.csv', index=False)\n",
        "\n",
        "print(\"Archivo de submission con etiquetas creado correctamente.\")\n"
      ],
      "metadata": {
        "colab": {
          "base_uri": "https://localhost:8080/"
        },
        "id": "KIXv789LhrFT",
        "outputId": "61843f25-6427-4634-fc5d-f7d642109729"
      },
      "execution_count": null,
      "outputs": [
        {
          "output_type": "stream",
          "name": "stdout",
          "text": [
            "Archivo de submission con etiquetas creado correctamente.\n"
          ]
        }
      ]
    },
    {
      "cell_type": "code",
      "source": [
        "import pandas as pd\n",
        "\n",
        "# Cargar el archivo submission.csv en un DataFrame\n",
        "submission = pd.read_csv('submission.csv')\n",
        "\n",
        "# Mostrar las primeras filas del archivo\n",
        "print(submission.head())\n"
      ],
      "metadata": {
        "colab": {
          "base_uri": "https://localhost:8080/"
        },
        "id": "T2OCz5JnhFL7",
        "outputId": "6f75fe58-63e2-46ad-816e-69582978d907"
      },
      "execution_count": null,
      "outputs": [
        {
          "output_type": "stream",
          "name": "stdout",
          "text": [
            "       ID   Desempeño\n",
            "0  550236        bajo\n",
            "1   98545  medio alto\n",
            "2  499179        alto\n",
            "3  782980        bajo\n",
            "4  785185        bajo\n"
          ]
        }
      ]
    },
    {
      "cell_type": "code",
      "source": [
        "from google.colab import files\n",
        "\n",
        "# Descarga el archivo de submisión\n",
        "files.download('submission.csv')\n"
      ],
      "metadata": {
        "colab": {
          "base_uri": "https://localhost:8080/",
          "height": 17
        },
        "id": "YdGWt5vOiTlp",
        "outputId": "4594f403-b1ec-48f5-c4e5-e068d0def605"
      },
      "execution_count": null,
      "outputs": [
        {
          "output_type": "display_data",
          "data": {
            "text/plain": [
              "<IPython.core.display.Javascript object>"
            ],
            "application/javascript": [
              "\n",
              "    async function download(id, filename, size) {\n",
              "      if (!google.colab.kernel.accessAllowed) {\n",
              "        return;\n",
              "      }\n",
              "      const div = document.createElement('div');\n",
              "      const label = document.createElement('label');\n",
              "      label.textContent = `Downloading \"${filename}\": `;\n",
              "      div.appendChild(label);\n",
              "      const progress = document.createElement('progress');\n",
              "      progress.max = size;\n",
              "      div.appendChild(progress);\n",
              "      document.body.appendChild(div);\n",
              "\n",
              "      const buffers = [];\n",
              "      let downloaded = 0;\n",
              "\n",
              "      const channel = await google.colab.kernel.comms.open(id);\n",
              "      // Send a message to notify the kernel that we're ready.\n",
              "      channel.send({})\n",
              "\n",
              "      for await (const message of channel.messages) {\n",
              "        // Send a message to notify the kernel that we're ready.\n",
              "        channel.send({})\n",
              "        if (message.buffers) {\n",
              "          for (const buffer of message.buffers) {\n",
              "            buffers.push(buffer);\n",
              "            downloaded += buffer.byteLength;\n",
              "            progress.value = downloaded;\n",
              "          }\n",
              "        }\n",
              "      }\n",
              "      const blob = new Blob(buffers, {type: 'application/binary'});\n",
              "      const a = document.createElement('a');\n",
              "      a.href = window.URL.createObjectURL(blob);\n",
              "      a.download = filename;\n",
              "      div.appendChild(a);\n",
              "      a.click();\n",
              "      div.remove();\n",
              "    }\n",
              "  "
            ]
          },
          "metadata": {}
        },
        {
          "output_type": "display_data",
          "data": {
            "text/plain": [
              "<IPython.core.display.Javascript object>"
            ],
            "application/javascript": [
              "download(\"download_25a6a404-55b6-465c-95b2-2f14046a3b40\", \"submission.csv\", 4234034)"
            ]
          },
          "metadata": {}
        }
      ]
    }
  ],
  "metadata": {
    "accelerator": "TPU",
    "colab": {
      "gpuType": "V28",
      "provenance": [],
      "authorship_tag": "ABX9TyMH13GKY1qShX5Iw8On/hl7",
      "include_colab_link": true
    },
    "kernelspec": {
      "display_name": "Python 3",
      "name": "python3"
    },
    "language_info": {
      "name": "python"
    }
  },
  "nbformat": 4,
  "nbformat_minor": 0
}